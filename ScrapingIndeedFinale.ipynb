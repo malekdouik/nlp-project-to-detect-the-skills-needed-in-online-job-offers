{
 "cells": [
  {
   "cell_type": "markdown",
   "metadata": {},
   "source": [
    "# <center> <b>`Scraping Indeed`</b> </center>"
   ]
  },
  {
   "cell_type": "code",
   "execution_count": 992,
   "metadata": {},
   "outputs": [],
   "source": [
    "from bs4 import BeautifulSoup\n",
    "import urllib.request\n",
    "import csv\n",
    "from lxml import html\n",
    "import requests\n",
    "from selenium.webdriver.support.ui import WebDriverWait\n",
    "import pandas as pd"
   ]
  },
  {
   "cell_type": "code",
   "execution_count": 993,
   "metadata": {},
   "outputs": [],
   "source": [
    "df_temp=pd.read_csv('ideed_Eng.csv')\n",
    "\n",
    "urlpage = 'https://www.indeed.com/viewjob?jk=c49c843df963e561&tk=1e9nvm46143h4801&from=serp&vjs=3'\n",
    "page = urllib.request.urlopen(urlpage)\n",
    "soup = BeautifulSoup(page, 'html.parser')\n",
    "entreprise = soup.find_all('div', class_='icl-u-lg-mr--sm icl-u-xs-mr--xs')[0].get_text()\n",
    "title=soup.find_all('h3', class_='icl-u-xs-mb--xs icl-u-xs-mt--none jobsearch-JobInfoHeader-title')[0].get_text()\n",
    "description =soup.find_all('div', class_='jobsearch-jobDescriptionText')[0].get_text()\n",
    "description = description.replace(u'\\xa0', u' ')\n",
    "description = description.replace(u'\\n', u' ')\n",
    "\n",
    "df = pd.DataFrame({\n",
    " 'entreprise':[entreprise],\n",
    "'titre':[title],\n",
    "'description':[description]\n",
    "})\n",
    "\n",
    "\n",
    "df = pd.concat([df, df_temp])\n",
    "#Delet index\n",
    "df.reset_index(drop=True, inplace=True)\n"
   ]
  },
  {
   "cell_type": "code",
   "execution_count": 994,
   "metadata": {},
   "outputs": [
    {
     "output_type": "execute_result",
     "data": {
      "text/plain": "                                            entreprise  \\\n0                                         The Standard   \n1                                            dunnhumby   \n2                                          HEPCO, Inc.   \n3                                          One Concern   \n4                                      Grammarly, Inc.   \n..                                                 ...   \n466                                        GETRESOURCE   \n467  Clark, Richardson and Biskup Consulting Engine...   \n468                                 Logos Infotech Inc   \n469                                   SDSN Association   \n470                                        DataLab USA   \n\n                                       titre  \\\n0                      Senior Data Scientist   \n1              Senior Applied Data Scientist   \n2                      Senior Data Scientist   \n3           Data Scientist, Machine Learning   \n4                             Data Scientist   \n..                                       ...   \n466   Jr./Entry Level Middleware consultants   \n467  Entry Level Process Simulation Engineer   \n468              Entry level Devops Engineer   \n469                  SDSN USA Analyst Intern   \n470            Data Scientist / Statistician   \n\n                                           description  \n0    At The Standard, you’ll join a team focused on...  \n1    dunnhumby is the world’s leading customer scie...  \n2    SENIOR DATA SCIENTIST  HEPCO, Inc., is seeking...  \n3    One Concern is a startup which specializes in ...  \n4    The opportunity  Grammarly empowers people to ...  \n..                                                 ...  \n466  Job Requirements  This requirement is for a ca...  \n467  Position Summary The Entry-Level Process Simul...  \n468  Company Description  Our company is a leading ...  \n469  Organization Background  The SDSN USA endeavor...  \n470  Key responsibilities/duties include: Build, im...  \n\n[471 rows x 3 columns]",
      "text/html": "<div>\n<style scoped>\n    .dataframe tbody tr th:only-of-type {\n        vertical-align: middle;\n    }\n\n    .dataframe tbody tr th {\n        vertical-align: top;\n    }\n\n    .dataframe thead th {\n        text-align: right;\n    }\n</style>\n<table border=\"1\" class=\"dataframe\">\n  <thead>\n    <tr style=\"text-align: right;\">\n      <th></th>\n      <th>entreprise</th>\n      <th>titre</th>\n      <th>description</th>\n    </tr>\n  </thead>\n  <tbody>\n    <tr>\n      <th>0</th>\n      <td>The Standard</td>\n      <td>Senior Data Scientist</td>\n      <td>At The Standard, you’ll join a team focused on...</td>\n    </tr>\n    <tr>\n      <th>1</th>\n      <td>dunnhumby</td>\n      <td>Senior Applied Data Scientist</td>\n      <td>dunnhumby is the world’s leading customer scie...</td>\n    </tr>\n    <tr>\n      <th>2</th>\n      <td>HEPCO, Inc.</td>\n      <td>Senior Data Scientist</td>\n      <td>SENIOR DATA SCIENTIST  HEPCO, Inc., is seeking...</td>\n    </tr>\n    <tr>\n      <th>3</th>\n      <td>One Concern</td>\n      <td>Data Scientist, Machine Learning</td>\n      <td>One Concern is a startup which specializes in ...</td>\n    </tr>\n    <tr>\n      <th>4</th>\n      <td>Grammarly, Inc.</td>\n      <td>Data Scientist</td>\n      <td>The opportunity  Grammarly empowers people to ...</td>\n    </tr>\n    <tr>\n      <th>...</th>\n      <td>...</td>\n      <td>...</td>\n      <td>...</td>\n    </tr>\n    <tr>\n      <th>466</th>\n      <td>GETRESOURCE</td>\n      <td>Jr./Entry Level Middleware consultants</td>\n      <td>Job Requirements  This requirement is for a ca...</td>\n    </tr>\n    <tr>\n      <th>467</th>\n      <td>Clark, Richardson and Biskup Consulting Engine...</td>\n      <td>Entry Level Process Simulation Engineer</td>\n      <td>Position Summary The Entry-Level Process Simul...</td>\n    </tr>\n    <tr>\n      <th>468</th>\n      <td>Logos Infotech Inc</td>\n      <td>Entry level Devops Engineer</td>\n      <td>Company Description  Our company is a leading ...</td>\n    </tr>\n    <tr>\n      <th>469</th>\n      <td>SDSN Association</td>\n      <td>SDSN USA Analyst Intern</td>\n      <td>Organization Background  The SDSN USA endeavor...</td>\n    </tr>\n    <tr>\n      <th>470</th>\n      <td>DataLab USA</td>\n      <td>Data Scientist / Statistician</td>\n      <td>Key responsibilities/duties include: Build, im...</td>\n    </tr>\n  </tbody>\n</table>\n<p>471 rows × 3 columns</p>\n</div>"
     },
     "metadata": {},
     "execution_count": 994
    }
   ],
   "source": [
    "df"
   ]
  },
  {
   "cell_type": "code",
   "execution_count": 995,
   "metadata": {},
   "outputs": [],
   "source": [
    "df.to_csv('ideed_Eng.csv',index=False)"
   ]
  },
  {
   "cell_type": "code",
   "execution_count": null,
   "metadata": {},
   "outputs": [],
   "source": []
  }
 ],
 "metadata": {
  "language_info": {
   "codemirror_mode": {
    "name": "ipython",
    "version": 3
   },
   "file_extension": ".py",
   "mimetype": "text/x-python",
   "name": "python",
   "nbconvert_exporter": "python",
   "pygments_lexer": "ipython3",
   "version": "3.7.1-final"
  },
  "orig_nbformat": 2,
  "kernelspec": {
   "name": "python3",
   "display_name": "Python 3"
  }
 },
 "nbformat": 4,
 "nbformat_minor": 2
}