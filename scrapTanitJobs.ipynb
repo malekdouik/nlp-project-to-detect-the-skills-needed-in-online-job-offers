{
 "cells": [
  {
   "cell_type": "code",
   "execution_count": 2,
   "metadata": {},
   "outputs": [],
   "source": [
    "from selenium import webdriver\n",
    "from selenium.webdriver.support.ui import WebDriverWait\n",
    "from selenium.webdriver.support import expected_conditions as EC\n",
    "from selenium.webdriver.common.by import By\n",
    "from selenium.common.exceptions import TimeoutException\n",
    "from selenium.webdriver.common.keys import Keys\n",
    "import time\n",
    "from selenium.webdriver.common.action_chains import ActionChains\n",
    "from selenium.webdriver.common.keys import Keys\n",
    "\n",
    "# bfs4\n",
    "from bs4 import BeautifulSoup\n",
    "import urllib.request\n",
    "import requests\n",
    "\n",
    "import pandas as pd"
   ]
  },
  {
   "cell_type": "code",
   "execution_count": 140,
   "metadata": {},
   "outputs": [],
   "source": [
    "df_temp=pd.read_csv('Tanitjobs.csv')"
   ]
  },
  {
   "cell_type": "code",
   "execution_count": 5,
   "metadata": {},
   "outputs": [
    {
     "output_type": "error",
     "ename": "ElementClickInterceptedException",
     "evalue": "Message: element click intercepted: Element <button type=\"button\" class=\"load-more btn btn__nextpage\" data-page=\"2\" data-backfilling=\"false\" data-backfilling-page=\"1\">...</button> is not clickable at point (630, 654). Other element would receive the click: <article id=\"651214\" class=\"media well listing-item listing-item__jobs  \">...</article>\n  (Session info: chrome=83.0.4103.61)\n",
     "traceback": [
      "\u001b[1;31m---------------------------------------------------------------------------\u001b[0m",
      "\u001b[1;31mElementClickInterceptedException\u001b[0m          Traceback (most recent call last)",
      "\u001b[1;32m<ipython-input-5-88341d64b796>\u001b[0m in \u001b[0;36m<module>\u001b[1;34m\u001b[0m\n\u001b[0;32m     13\u001b[0m \u001b[1;33m\u001b[0m\u001b[0m\n\u001b[0;32m     14\u001b[0m \u001b[1;32mfor\u001b[0m \u001b[0mi\u001b[0m \u001b[1;32min\u001b[0m \u001b[0mrange\u001b[0m\u001b[1;33m(\u001b[0m\u001b[1;36m50\u001b[0m\u001b[1;33m)\u001b[0m\u001b[1;33m:\u001b[0m\u001b[1;33m\u001b[0m\u001b[1;33m\u001b[0m\u001b[0m\n\u001b[1;32m---> 15\u001b[1;33m     \u001b[0mdriver\u001b[0m\u001b[1;33m.\u001b[0m\u001b[0mfind_element_by_xpath\u001b[0m\u001b[1;33m(\u001b[0m\u001b[1;34m\"/html/body/div[1]/div/div[2]/div[3]/div[4]/button\"\u001b[0m\u001b[1;33m)\u001b[0m\u001b[1;33m.\u001b[0m\u001b[0mclick\u001b[0m\u001b[1;33m(\u001b[0m\u001b[1;33m)\u001b[0m\u001b[1;33m\u001b[0m\u001b[1;33m\u001b[0m\u001b[0m\n\u001b[0m\u001b[0;32m     16\u001b[0m \u001b[1;33m\u001b[0m\u001b[0m\n\u001b[0;32m     17\u001b[0m \u001b[1;31m# num des annonces qui se trouvent dans la page apres le click dde voir plus\u001b[0m\u001b[1;33m\u001b[0m\u001b[1;33m\u001b[0m\u001b[1;33m\u001b[0m\u001b[0m\n",
      "\u001b[1;32mD:\\Anaconda\\lib\\site-packages\\selenium\\webdriver\\remote\\webelement.py\u001b[0m in \u001b[0;36mclick\u001b[1;34m(self)\u001b[0m\n\u001b[0;32m     78\u001b[0m     \u001b[1;32mdef\u001b[0m \u001b[0mclick\u001b[0m\u001b[1;33m(\u001b[0m\u001b[0mself\u001b[0m\u001b[1;33m)\u001b[0m\u001b[1;33m:\u001b[0m\u001b[1;33m\u001b[0m\u001b[1;33m\u001b[0m\u001b[0m\n\u001b[0;32m     79\u001b[0m         \u001b[1;34m\"\"\"Clicks the element.\"\"\"\u001b[0m\u001b[1;33m\u001b[0m\u001b[1;33m\u001b[0m\u001b[0m\n\u001b[1;32m---> 80\u001b[1;33m         \u001b[0mself\u001b[0m\u001b[1;33m.\u001b[0m\u001b[0m_execute\u001b[0m\u001b[1;33m(\u001b[0m\u001b[0mCommand\u001b[0m\u001b[1;33m.\u001b[0m\u001b[0mCLICK_ELEMENT\u001b[0m\u001b[1;33m)\u001b[0m\u001b[1;33m\u001b[0m\u001b[1;33m\u001b[0m\u001b[0m\n\u001b[0m\u001b[0;32m     81\u001b[0m \u001b[1;33m\u001b[0m\u001b[0m\n\u001b[0;32m     82\u001b[0m     \u001b[1;32mdef\u001b[0m \u001b[0msubmit\u001b[0m\u001b[1;33m(\u001b[0m\u001b[0mself\u001b[0m\u001b[1;33m)\u001b[0m\u001b[1;33m:\u001b[0m\u001b[1;33m\u001b[0m\u001b[1;33m\u001b[0m\u001b[0m\n",
      "\u001b[1;32mD:\\Anaconda\\lib\\site-packages\\selenium\\webdriver\\remote\\webelement.py\u001b[0m in \u001b[0;36m_execute\u001b[1;34m(self, command, params)\u001b[0m\n\u001b[0;32m    631\u001b[0m             \u001b[0mparams\u001b[0m \u001b[1;33m=\u001b[0m \u001b[1;33m{\u001b[0m\u001b[1;33m}\u001b[0m\u001b[1;33m\u001b[0m\u001b[1;33m\u001b[0m\u001b[0m\n\u001b[0;32m    632\u001b[0m         \u001b[0mparams\u001b[0m\u001b[1;33m[\u001b[0m\u001b[1;34m'id'\u001b[0m\u001b[1;33m]\u001b[0m \u001b[1;33m=\u001b[0m \u001b[0mself\u001b[0m\u001b[1;33m.\u001b[0m\u001b[0m_id\u001b[0m\u001b[1;33m\u001b[0m\u001b[1;33m\u001b[0m\u001b[0m\n\u001b[1;32m--> 633\u001b[1;33m         \u001b[1;32mreturn\u001b[0m \u001b[0mself\u001b[0m\u001b[1;33m.\u001b[0m\u001b[0m_parent\u001b[0m\u001b[1;33m.\u001b[0m\u001b[0mexecute\u001b[0m\u001b[1;33m(\u001b[0m\u001b[0mcommand\u001b[0m\u001b[1;33m,\u001b[0m \u001b[0mparams\u001b[0m\u001b[1;33m)\u001b[0m\u001b[1;33m\u001b[0m\u001b[1;33m\u001b[0m\u001b[0m\n\u001b[0m\u001b[0;32m    634\u001b[0m \u001b[1;33m\u001b[0m\u001b[0m\n\u001b[0;32m    635\u001b[0m     \u001b[1;32mdef\u001b[0m \u001b[0mfind_element\u001b[0m\u001b[1;33m(\u001b[0m\u001b[0mself\u001b[0m\u001b[1;33m,\u001b[0m \u001b[0mby\u001b[0m\u001b[1;33m=\u001b[0m\u001b[0mBy\u001b[0m\u001b[1;33m.\u001b[0m\u001b[0mID\u001b[0m\u001b[1;33m,\u001b[0m \u001b[0mvalue\u001b[0m\u001b[1;33m=\u001b[0m\u001b[1;32mNone\u001b[0m\u001b[1;33m)\u001b[0m\u001b[1;33m:\u001b[0m\u001b[1;33m\u001b[0m\u001b[1;33m\u001b[0m\u001b[0m\n",
      "\u001b[1;32mD:\\Anaconda\\lib\\site-packages\\selenium\\webdriver\\remote\\webdriver.py\u001b[0m in \u001b[0;36mexecute\u001b[1;34m(self, driver_command, params)\u001b[0m\n\u001b[0;32m    319\u001b[0m         \u001b[0mresponse\u001b[0m \u001b[1;33m=\u001b[0m \u001b[0mself\u001b[0m\u001b[1;33m.\u001b[0m\u001b[0mcommand_executor\u001b[0m\u001b[1;33m.\u001b[0m\u001b[0mexecute\u001b[0m\u001b[1;33m(\u001b[0m\u001b[0mdriver_command\u001b[0m\u001b[1;33m,\u001b[0m \u001b[0mparams\u001b[0m\u001b[1;33m)\u001b[0m\u001b[1;33m\u001b[0m\u001b[1;33m\u001b[0m\u001b[0m\n\u001b[0;32m    320\u001b[0m         \u001b[1;32mif\u001b[0m \u001b[0mresponse\u001b[0m\u001b[1;33m:\u001b[0m\u001b[1;33m\u001b[0m\u001b[1;33m\u001b[0m\u001b[0m\n\u001b[1;32m--> 321\u001b[1;33m             \u001b[0mself\u001b[0m\u001b[1;33m.\u001b[0m\u001b[0merror_handler\u001b[0m\u001b[1;33m.\u001b[0m\u001b[0mcheck_response\u001b[0m\u001b[1;33m(\u001b[0m\u001b[0mresponse\u001b[0m\u001b[1;33m)\u001b[0m\u001b[1;33m\u001b[0m\u001b[1;33m\u001b[0m\u001b[0m\n\u001b[0m\u001b[0;32m    322\u001b[0m             response['value'] = self._unwrap_value(\n\u001b[0;32m    323\u001b[0m                 response.get('value', None))\n",
      "\u001b[1;32mD:\\Anaconda\\lib\\site-packages\\selenium\\webdriver\\remote\\errorhandler.py\u001b[0m in \u001b[0;36mcheck_response\u001b[1;34m(self, response)\u001b[0m\n\u001b[0;32m    240\u001b[0m                 \u001b[0malert_text\u001b[0m \u001b[1;33m=\u001b[0m \u001b[0mvalue\u001b[0m\u001b[1;33m[\u001b[0m\u001b[1;34m'alert'\u001b[0m\u001b[1;33m]\u001b[0m\u001b[1;33m.\u001b[0m\u001b[0mget\u001b[0m\u001b[1;33m(\u001b[0m\u001b[1;34m'text'\u001b[0m\u001b[1;33m)\u001b[0m\u001b[1;33m\u001b[0m\u001b[1;33m\u001b[0m\u001b[0m\n\u001b[0;32m    241\u001b[0m             \u001b[1;32mraise\u001b[0m \u001b[0mexception_class\u001b[0m\u001b[1;33m(\u001b[0m\u001b[0mmessage\u001b[0m\u001b[1;33m,\u001b[0m \u001b[0mscreen\u001b[0m\u001b[1;33m,\u001b[0m \u001b[0mstacktrace\u001b[0m\u001b[1;33m,\u001b[0m \u001b[0malert_text\u001b[0m\u001b[1;33m)\u001b[0m\u001b[1;33m\u001b[0m\u001b[1;33m\u001b[0m\u001b[0m\n\u001b[1;32m--> 242\u001b[1;33m         \u001b[1;32mraise\u001b[0m \u001b[0mexception_class\u001b[0m\u001b[1;33m(\u001b[0m\u001b[0mmessage\u001b[0m\u001b[1;33m,\u001b[0m \u001b[0mscreen\u001b[0m\u001b[1;33m,\u001b[0m \u001b[0mstacktrace\u001b[0m\u001b[1;33m)\u001b[0m\u001b[1;33m\u001b[0m\u001b[1;33m\u001b[0m\u001b[0m\n\u001b[0m\u001b[0;32m    243\u001b[0m \u001b[1;33m\u001b[0m\u001b[0m\n\u001b[0;32m    244\u001b[0m     \u001b[1;32mdef\u001b[0m \u001b[0m_value_or_default\u001b[0m\u001b[1;33m(\u001b[0m\u001b[0mself\u001b[0m\u001b[1;33m,\u001b[0m \u001b[0mobj\u001b[0m\u001b[1;33m,\u001b[0m \u001b[0mkey\u001b[0m\u001b[1;33m,\u001b[0m \u001b[0mdefault\u001b[0m\u001b[1;33m)\u001b[0m\u001b[1;33m:\u001b[0m\u001b[1;33m\u001b[0m\u001b[1;33m\u001b[0m\u001b[0m\n",
      "\u001b[1;31mElementClickInterceptedException\u001b[0m: Message: element click intercepted: Element <button type=\"button\" class=\"load-more btn btn__nextpage\" data-page=\"2\" data-backfilling=\"false\" data-backfilling-page=\"1\">...</button> is not clickable at point (630, 654). Other element would receive the click: <article id=\"651214\" class=\"media well listing-item listing-item__jobs  \">...</article>\n  (Session info: chrome=83.0.4103.61)\n"
     ]
    }
   ],
   "source": [
    "options =webdriver.ChromeOptions()\n",
    "options.headless=False\n",
    "prefs={\"profile.default_content_setting_values.notifications\" :2}\n",
    "options.add_experimental_option(\"prefs\",prefs)\n",
    "driver = webdriver.Chrome('C:/chromedriver/chromedriver.exe')\n",
    "\n",
    "driver.get(\"https://www.tanitjobs.com/\")\n",
    "driver.find_element_by_xpath('//*[@id=\"keywords\"]').send_keys(\"informatique\",Keys.ENTER)\n",
    "time.sleep(5)\n",
    "\n",
    "num_links = len(driver.find_elements_by_class_name('pad_right_small'))\n",
    "num_links\n",
    "\n",
    "for i in range(50):\n",
    "    driver.find_element_by_xpath(\"/html/body/div[1]/div/div[2]/div[3]/div[4]/button\").click()\n",
    "\n",
    "# num des annonces qui se trouvent dans la page apres le click dde voir plus\n",
    "for i in range(len(driver.find_elements_by_class_name(\"link\"))):\n",
    "    element = driver.find_elements_by_class_name(\"link\")[i]\n",
    "    ActionChains(driver) \\\n",
    "        .key_down(Keys.CONTROL) \\\n",
    "        .click(element) \\\n",
    "        .key_up(Keys.CONTROL) \\\n",
    "        .perform()       \n",
    "    \n",
    "\n",
    "list_url=[]\n",
    "##If you have more than one switch to other window\n",
    "if len(driver.window_handles) > 1:\n",
    "    for i in range(len(driver.find_elements_by_class_name(\"link\"))-1):\n",
    "        driver.switch_to.window(driver.window_handles[i])\n",
    "        print(driver.current_url)\n",
    "        list_url.append(driver.current_url)"
   ]
  },
  {
   "cell_type": "code",
   "execution_count": 147,
   "metadata": {},
   "outputs": [],
   "source": [
    "list_url.remove(list_url[0])\n",
    "list_url.remove(list_url[len(list_url)-1])"
   ]
  },
  {
   "cell_type": "code",
   "execution_count": 148,
   "metadata": {},
   "outputs": [
    {
     "output_type": "execute_result",
     "data": {
      "text/plain": "'https://www.tanitjobs.com/job/566968/des-conseillers-clients-fran%C3%A7ais/?backPage=1&searchID=1591477134.2972'"
     },
     "metadata": {},
     "execution_count": 148
    }
   ],
   "source": [
    "list_url[len(list_url)-1]"
   ]
  },
  {
   "cell_type": "code",
   "execution_count": 149,
   "metadata": {},
   "outputs": [
    {
     "output_type": "execute_result",
     "data": {
      "text/plain": "59"
     },
     "metadata": {},
     "execution_count": 149
    }
   ],
   "source": [
    "len(list_url)"
   ]
  },
  {
   "cell_type": "markdown",
   "metadata": {},
   "source": [
    "## BFSoup "
   ]
  },
  {
   "cell_type": "code",
   "execution_count": 153,
   "metadata": {},
   "outputs": [],
   "source": [
    "zebi=0\n",
    "for i in range(len(list_url)):\n",
    "    urlpage = list_url[i]\n",
    "    page = urllib.request.urlopen(urlpage)\n",
    "    soup = BeautifulSoup(page, 'html.parser')\n",
    "\n",
    "    description =soup.find_all('div', class_='details-body__content content-text')[0].get_text()\n",
    "    description = description.replace(u'\\xa0', u' ')\n",
    "    description = description.replace(u'\\n', u' ')\n",
    "\n",
    "    uls = soup.select(\"div.bootstrap-tagsinput\")\n",
    "    text = [a.text for ul in uls for a in  ul.select(\"a\")]\n",
    "#------------------------------------------------------------------------------------\n",
    "\n",
    "    df = pd.DataFrame({'description':[description],'Tags':[text]})\n",
    "    df = pd.concat([df, df_temp])\n",
    "    #Delet index\n",
    "    df.reset_index(drop=True, inplace=True)\n",
    "\n",
    "    df.to_csv('Tanitjobs.csv',index=False)\n",
    "\n",
    "    zebi+=1    "
   ]
  },
  {
   "cell_type": "code",
   "execution_count": 151,
   "metadata": {},
   "outputs": [
    {
     "output_type": "execute_result",
     "data": {
      "text/plain": "59"
     },
     "metadata": {},
     "execution_count": 151
    }
   ],
   "source": [
    "zebi"
   ]
  },
  {
   "cell_type": "markdown",
   "metadata": {},
   "source": [
    "# Etape 1"
   ]
  },
  {
   "cell_type": "code",
   "execution_count": 14,
   "metadata": {},
   "outputs": [],
   "source": [
    "df_temp=pd.read_csv('Tanitjobs.csv')\n",
    "\n",
    "page = urllib.request.urlopen(\"https://www.tanitjobs.com/job/596558/technicien-superieur-en-informatique/?backPage=9&searchID=1591546268.7353\")\n",
    "\n",
    "# Analyze the html using beautiful soup\n",
    "soup = BeautifulSoup(page, 'html.parser')\n",
    "\n",
    "\n",
    "description =soup.find_all('div', class_='details-body__content content-text')[1].get_text()\n",
    "description = description.replace(u'\\xa0', u' ')\n",
    "description = description.replace(u'\\n', u' ')\n",
    "\n",
    "uls = soup.select(\"div.bootstrap-tagsinput\")\n",
    "text = [a.text for ul in uls for a in  ul.select(\"a\")]  \n",
    "\n",
    "df = pd.DataFrame({'description':[description],'Tags':[text]})\n",
    "df = pd.concat([df, df_temp])\n",
    "#Delet index\n",
    "df.reset_index(drop=True, inplace=True)\n",
    "df.to_csv('Tanitjobs.csv',index=False)"
   ]
  },
  {
   "cell_type": "code",
   "execution_count": 15,
   "metadata": {},
   "outputs": [
    {
     "output_type": "execute_result",
     "data": {
      "text/plain": "                                         description  \\\n0   Exigences de l'emploi Vous êtes sérieux, moti...   \n1  Profil:-De formation supérieure (BAC+3 a plus)...   \n2   Vous êtes d'une formation minimum Bac+3/5 ave...   \n3  Compétences requises - React Native, MongoDB, ...   \n4  Profil demandé : Un français courant exigé Une...   \n\n                                                Tags  \n0  ['Formateur  ', 'Développement  ', 'Informatiq...  \n1  ['Community Manager ', 'Marketing Digitale ', ...  \n2  ['Développeur  ', 'Informatique  ', 'Web  ', '...  \n3  ['Développeur  ', 'Mobile  ', 'Informatique  '...  \n4  ['Téléconseillère ', 'Call Center  ', \"Centre ...  ",
      "text/html": "<div>\n<style scoped>\n    .dataframe tbody tr th:only-of-type {\n        vertical-align: middle;\n    }\n\n    .dataframe tbody tr th {\n        vertical-align: top;\n    }\n\n    .dataframe thead th {\n        text-align: right;\n    }\n</style>\n<table border=\"1\" class=\"dataframe\">\n  <thead>\n    <tr style=\"text-align: right;\">\n      <th></th>\n      <th>description</th>\n      <th>Tags</th>\n    </tr>\n  </thead>\n  <tbody>\n    <tr>\n      <th>0</th>\n      <td>Exigences de l'emploi Vous êtes sérieux, moti...</td>\n      <td>['Formateur  ', 'Développement  ', 'Informatiq...</td>\n    </tr>\n    <tr>\n      <th>1</th>\n      <td>Profil:-De formation supérieure (BAC+3 a plus)...</td>\n      <td>['Community Manager ', 'Marketing Digitale ', ...</td>\n    </tr>\n    <tr>\n      <th>2</th>\n      <td>Vous êtes d'une formation minimum Bac+3/5 ave...</td>\n      <td>['Développeur  ', 'Informatique  ', 'Web  ', '...</td>\n    </tr>\n    <tr>\n      <th>3</th>\n      <td>Compétences requises - React Native, MongoDB, ...</td>\n      <td>['Développeur  ', 'Mobile  ', 'Informatique  '...</td>\n    </tr>\n    <tr>\n      <th>4</th>\n      <td>Profil demandé : Un français courant exigé Une...</td>\n      <td>['Téléconseillère ', 'Call Center  ', \"Centre ...</td>\n    </tr>\n  </tbody>\n</table>\n</div>"
     },
     "metadata": {},
     "execution_count": 15
    }
   ],
   "source": [
    "dfg.head()"
   ]
  },
  {
   "cell_type": "code",
   "execution_count": 11,
   "metadata": {},
   "outputs": [
    {
     "output_type": "execute_result",
     "data": {
      "text/plain": "                                          description  \\\n0   Compétences techniques : SQL Server/requêtes S...   \n1   Au sein de notre équipe R&D, vous participerez...   \n2    Exigences de l'emploi Vous êtes sérieux, moti...   \n3   Profil:-De formation supérieure (BAC+3 a plus)...   \n4    Vous êtes d'une formation minimum Bac+3/5 ave...   \n..                                                ...   \n91   Votre profil pour mener à bien cette mission ...   \n92  Issu(e) d’une formation supérieur  en communic...   \n93                                         06/07/2020   \n94   Ability to work in a team. Degree in Computer...   \n95  Diplômes requis  Diplôme d’école de commerce, ...   \n\n                                                 Tags  \n0   [Responsable Applicatif  , Informatique  , SQL...  \n1   ['Ingénieur  ', 'Informatique  ', 'Développeme...  \n2   ['Formateur  ', 'Développement  ', 'Informatiq...  \n3   ['Community Manager ', 'Marketing Digitale ', ...  \n4   ['Développeur  ', 'Informatique  ', 'Web  ', '...  \n..                                                ...  \n91          ['Web/Chef de projet/Suivi stratégique ']  \n92        ['Community manager rédacteur de contenu ']  \n93                                                 []  \n94  ['php ', 'css ', 'jquery ', 'js ', 'reactjs ',...  \n95  ['Marketing ', ' informatique ', ' commerce ',...  \n\n[91 rows x 2 columns]",
      "text/html": "<div>\n<style scoped>\n    .dataframe tbody tr th:only-of-type {\n        vertical-align: middle;\n    }\n\n    .dataframe tbody tr th {\n        vertical-align: top;\n    }\n\n    .dataframe thead th {\n        text-align: right;\n    }\n</style>\n<table border=\"1\" class=\"dataframe\">\n  <thead>\n    <tr style=\"text-align: right;\">\n      <th></th>\n      <th>description</th>\n      <th>Tags</th>\n    </tr>\n  </thead>\n  <tbody>\n    <tr>\n      <th>0</th>\n      <td>Compétences techniques : SQL Server/requêtes S...</td>\n      <td>[Responsable Applicatif  , Informatique  , SQL...</td>\n    </tr>\n    <tr>\n      <th>1</th>\n      <td>Au sein de notre équipe R&amp;D, vous participerez...</td>\n      <td>['Ingénieur  ', 'Informatique  ', 'Développeme...</td>\n    </tr>\n    <tr>\n      <th>2</th>\n      <td>Exigences de l'emploi Vous êtes sérieux, moti...</td>\n      <td>['Formateur  ', 'Développement  ', 'Informatiq...</td>\n    </tr>\n    <tr>\n      <th>3</th>\n      <td>Profil:-De formation supérieure (BAC+3 a plus)...</td>\n      <td>['Community Manager ', 'Marketing Digitale ', ...</td>\n    </tr>\n    <tr>\n      <th>4</th>\n      <td>Vous êtes d'une formation minimum Bac+3/5 ave...</td>\n      <td>['Développeur  ', 'Informatique  ', 'Web  ', '...</td>\n    </tr>\n    <tr>\n      <th>...</th>\n      <td>...</td>\n      <td>...</td>\n    </tr>\n    <tr>\n      <th>91</th>\n      <td>Votre profil pour mener à bien cette mission ...</td>\n      <td>['Web/Chef de projet/Suivi stratégique ']</td>\n    </tr>\n    <tr>\n      <th>92</th>\n      <td>Issu(e) d’une formation supérieur  en communic...</td>\n      <td>['Community manager rédacteur de contenu ']</td>\n    </tr>\n    <tr>\n      <th>93</th>\n      <td>06/07/2020</td>\n      <td>[]</td>\n    </tr>\n    <tr>\n      <th>94</th>\n      <td>Ability to work in a team. Degree in Computer...</td>\n      <td>['php ', 'css ', 'jquery ', 'js ', 'reactjs ',...</td>\n    </tr>\n    <tr>\n      <th>95</th>\n      <td>Diplômes requis  Diplôme d’école de commerce, ...</td>\n      <td>['Marketing ', ' informatique ', ' commerce ',...</td>\n    </tr>\n  </tbody>\n</table>\n<p>91 rows × 2 columns</p>\n</div>"
     },
     "metadata": {},
     "execution_count": 11
    }
   ],
   "source": [
    "df.drop_duplicates(subset=['description'],keep='last')"
   ]
  },
  {
   "cell_type": "code",
   "execution_count": 20,
   "metadata": {},
   "outputs": [],
   "source": [
    "from os import path\n",
    "from googletrans import Translator\n",
    "\n",
    "translator = Translator()\n",
    "trans = [] \n",
    "for text in df.description:\n",
    "    if translator.detect(text).lang == 'fr':\n",
    "        trans.append(translator.translate(text).text)\n",
    "    else:\n",
    "        trans.append(text)"
   ]
  },
  {
   "cell_type": "code",
   "execution_count": 23,
   "metadata": {
    "tags": [
     "outputPrepend"
    ]
   },
   "outputs": [
    {
     "output_type": "stream",
     "name": "stdout",
     "text": " test cycle. You are familiar with the test repository management tools. You are familiar with the tools and issues of automated testing You are familiar with the API test and programming Python French, clear and precise expression, easy to synthesize and disseminate information. You enjoy teamwork It's even better if: You have a good understanding of web technologies HTML / CSS / Javascript / vue.Js / API you have ideas on agile methodologies At NeoXam, we love the curious people involved and autonomous, who love to provide new solutions and for which it is essential to continue to learn and grow every day. The job requires great rigor and toughness, ability to communicate and promote good practice. WE OFFER A permanent position dynamic work environment and challengeant. A competitive package consisting of: fixed + individual bonus And much more ...\", 'Your skills: Good experience with Ionic Peculiar architectural patterns Peculiar with REST / SOAP / WEBSERVICES Peculiar Git SCRUM SQLite Jenkins Your profile: Strong enthusiasm Pro-active Ability to work Structured team and rigorous English Proficiency.', 'EDUCATION & EXPERIENCE o Higher education: +3 minimum, specialty: management / administration / human resources o Between 3 to 4 years experience in a similar position KNOWLEDGE & SKILLS REQUIRED o mastery of the French language: oral and writing o mastering pack office (Word, Excel, Powerpoint) o good interpersonal skills o Ability to manage stress o Ability to work in an international context o Proactivity, initiative and organizational skills', 'Your Skills: A successful experience of minimum 2 years Ionic At ease with the architectural patterns Peculiar with REST / SOAP / WEBSERVICES Peculiar Git SCRUM SQLite Jenkins Your profile: Pro-active strong enthusiasm an ability to work in team structured and rigorous English proficiency', 'Having a more or tray bts Who has mastered the computer tools with or without experience Spot, smiling, dynamic, presentable, rigor', 'Good general knowledge, IT (internal audit operating systems main computer languages \\u200b\\u200bnetworks. Maintain and update resource records. Representing a structure of interconnected computer components Identifying hardware and software components that may interact with the installation Establish a first level diagnostics on the dysfunction affecting network malfunction implement safety instructions related to handling computer components exploit the environment of a network intranet / internet and update its main features Mastering the corporate IT environment master the basic computer knowledge to master basic computer vocabulary related to device technology network technologies, etc ... master the types of input data and master output devices related use and follow the evolution of software Estines to business users (mainly office tools) Master the quality of general principles Master the basic principal of programming Mastering the use of an HTML editor respect the ethical rules related to the profession Communicate information correctly to determine their oral language in the company and grow professionally tasks involving the assessment of technology needs of information, selection of appropriate solutions for computer and software and the evaluation of results Knowledge in ERP Sage Adonix software CAD / CAM EPLAN information System Suite G', 'Job requirements: -Good knowledge of graphic designs tools (Illustrator, Photoshop, After Effect ...) -Having also graphic and artistic concepts for processing videos and photos. To apply please send your CV and Portfolio', '5 years minimum experience in software development. Experience with the following technologies: JavaScript or typescript experience with frameworks such as View, React or Angular Control CSS and HTML Strengths Experience with unit testing and functional user experience Knowledge (UX) English Professional skills and writing speak', 'Data Profile: Graduate engineer or Master in Computer Science with 3 years experience in Big Data Good level in Java and SQL as well as the following languages: Scala, Python, R Experience in agile method and complex IF A DataViz skills are more autonomy, initiative and teamwork socket Send your CV', '- Graduate (e) a business school or engineering with a specialty Finance - With (e) a real sense of customer service and a strong ability to work in a team - You have a strong taste for figures, a good analytical and synthesis and good organizational skills - very good command of English, French and pack office - Freshly graduated (e) or being PFE Send your CV', 'Good knowledge of Symfony and / or Cake PHP. Having at least one year of experience. Mastering Angular is highly appreciated.', \"GITProfil asked Ideally top computer training, you justify foremost significant experience in the development of PHP applications. A mastery of PHP 5/7 and a major Framework (Zend, Symfony, Laravel ...) is essential. Skills in JavaScript / HTML / CSS are needed. Using an MVC framework (eg Symfony), and a version control A mastery: ORACLE, SQL SERVER, TERADATA, MySQL, PostgreSQL Knowledge about tools like Git, Docker, Rancher, PHP Unit Grunt / Gulp'll help you get started quickly and evolve the development and production environment. General knowledge of operating systems (Linux and Windows) You are comfortable in an agile development environment / DevOps. Autonomy, rigor, creativity, curiosity are qualities that we expect. Like writing a well structured code and follow its long-term evolution. For perfect fluidity of exchanges with employees based in France, it is necessary that the candidate understands and speaks perfect French. You will work assignments including all stages of the project: Participation in the study with the Product Owner Writing specifications and technical choices (architectures and languages) Development & QA monitoring of production indicators and future developments.\\r Advantages: An interesting salary Assistance and training to ensure your skills up a framework of friendly and comfortable work. An evolution based on your skills Ticket Restaurant bonuses on performance goals and a CDI contract Plan timetable 40h / week 21 days of paid leave\", 'Job requirements have training: +5 or more. Very good command of Symfony framwork. Very good command of framwork Angular.', 'You are a minimum training Bac + 3/5 with professional experience (minimum 3 years) Rigorous, autonomous and versatile with a good team spirit.', 'Required profile: Ideally of advanced computer training, you justify significant experience in a .NET environment. You master C # language (Framework 4.5 or more) and its tools: .NET (core, ASP.NET) stored procedures, Entity Framework, Web API, HTML 5, JavaScript, JQuery, CSS 3 You are also comfortable on reading and use of databases. You also have the desire to work on front-end type technologies: Angular / React / View You have a great capacity for analysis, you are rigorous and methodical, and are able to take initiatives. You understand the business need and offer technical design You identify and anticipate risks you realize developments in ensuring the quality of work you do documentation and communication within or outside of the team you working closely with the teams and MOA Architecture Missions You will work especially on all stages of the project: Participation in the study with the Product Owner Writing technical specifications and choice (architectures and languages) Development & QA monitoring of production indicators and future developments. Advantages: An interesting salary Assistance and training to ensure your skills up a framework of friendly and comfortable work. An evolution based on your skills Ticket Restaurant bonuses on performance goals and a CDI contract Plan timetable 40h / week 21 days of paid leave', '-A good level of oral and written French is required. -A first experience in customer service environment will be highly appreciated. -Experience in receiving calls is an asset. -Aisance with office and computer tools (keyboard, mouse, web, ...... .etc) -You are dynamic, serious, punctual, disciplined and applied Application: Send your CV to recrutement@novocall.tn', '-A good level of oral and written French is required. -A first experience in customer service environment will be highly appreciated. -Experience in receiving calls is an asset. -Aisance with office and computer tools (keyboard, mouse, web, ...... .etc) -You are dynamic, serious, punctual, disciplined and applied Application: Send your CV to recrutement@novocall.tn', 'a BTS degree or specialized in IT experience with technical competence in the field of computer maintenance efficiency to communicate with their direct work environment, customers or suppliers apply contact +216 98248675 or send email: info@mediahouse-tn.com', 'Education: Bac +3 or more, Engineer or a Master in Computer Science · Work experience in a similar position is desirable. Having a taste for aesthetics and functionality. Knowing encode properly. Professional skills: You have full control of the development in PHP and associated tools: Ajax, jQuery, My SQL, HTML5, CSS, JavaScript. Mastery of French and English is essential. Human skills Autonomy, availability, initiative. Compensation: according profile', ' BSc in Computer Science, Engineering or relevant field At least 2 years experience in core java development Optional: 1 year experience in Eclipse RCP development Ability to understand existing code and analyze complex use cases Very good understanding of object oriented programming and UML diagrams Good spoken and written English  If you are interested in joining the PITERION Group please send us an application with your salary expectations, the earliest date you are available to start and the reference number', 'Having networking in knowledge and software development to install, configure, troubleshoot computer equipment Designing the structure of a database Manage a database, the set, the better develop an application specific language Administer network mastering the techniques needed to interconnect networks and telecommunications systems with ease Use the main software used in business: office, CAD databases, CAM, CAD, etc. Monitor and to update permanently knowledge in view of the rapid evolution of technology Understand the overall operation of the company, its processes and information flows Analyze user requirements, the guidelines of the management of the Managing a business plan and budget Write procedures, explain and verify their application', 'You are training Bac + 3/5 graphic type and / or graphics in webdesigner.Expérimenté (logo, advertisements, banners, etc.), Adobe Suite (Illustrator, InDesign, Photoshop), knowledge UX / UI are appréciées.Vous creative, autonomous and organized, passionate about graphic design and web design, this post is for you!', 'PROFILE: Training Bac +3 minimum and you justify a first successful experience in Web integration. Mastery of CMS (WordPress, Drupal, ...) ... and e-commerce solution (Magento, PrestaShop, ...) is a plus. Have knowledge in graphic design and ergonomics Autonomous, teamwork, communicative, growing high-tech. Advantages: - Motivating salary - A very pleasant working environment', 'Requirements and Qualifications  Previous working experience as a Product Owner for 3-5 year(s) MA in Computer Science, Engineering or similar relevant field In-depth knowledge of Agile process and principles  Outstanding communication, presentation and leadership skills Excellent organizational and time management skills Sharp analytical and problem-solving skills Creative thinker with a vision Attention to details ', 'RequirementsEssential Skills & KPIs: 7+ years of experience in software development/engineering including 3+ years in leading a software development team.  A concrete experience of building high performance, real-time transaction software Demonstrated ability to manage technical teams Have a strong focus on delivery and quality Mastery of core concepts such as: common data structures and algorithms, asynchronous processing and multi-threading, profiling and optimisation High performance & reliability in a real-time, high-volume, environment  Integration of 3rd party components, APIs and protocols Versioning, backward compatibility, migrations     Desirable:  Advanced Science / Engineering diploma, degree or similar    Personal Qualities:  Excellent team working abilities Good communication skills, verbal/written, French and English Good planning, accountability and organisational skills Energetic, enthusiastic, self-motivated Capable of working in a demanding environment   ', ' Up to 3 years experience in software development Ideally experience in Java (Spring application framework, Java EE or other backend technologies, such as Node.js) Knowledge in REST-interfaces and/or SOAP as well as eagerness to develop web applications with HTML5 and/or CSS3 Proven skills in handling/ability to work with tools like git, Jira, Jenkins or similar Ability to work in agile methodology (SCRUM process) Proven ability to communicate effectively, lead and participate in system architecture definition with the team and the solution architect. Technical writing skills and problem-solving ability. Verbal communication skills and strong interpersonal skills.  A good level in English is required  Knowledge in German language is appreciated.   Motivation Expect professional growth and new challenges while working at PITERION, we provide training, many career opportunities, and an attractive salary package. We offer the opportunity to work onsite in Germany   If you are interested in joining the PITERION Group please send us an application with your salary expectations, the earliest date you are available to start and the reference number.', '-Good experience in C#, .Net, SQL, and Cloud Technologies. - Fluency in English and have good communication skills. - Experience in team  management ', ' Master in international Law /Finance or IT  At least 1 year of experience  Fluent in English and French written and speaking is a must Excellent computer skills Attention to details and procedures Ability to meet deadlines Good communication skills ', 'Good knowledge: Mastery of CRM solutions with their various modules (scripter, CTI monitoring, campaigns administration ...) Windows Server (With certification is a plus) Networks: Routing, DNS, DHCP Security: Firewall, antivirus, ransomware Database: SQL Server Advanced knowledge of Microsoft Office Access is a plus knowledge of Linux. Good knowledge in Power Shell Scripting, and TSE environment and RDS Portal An advanced knowledge of other operating infrastructure is necessary (network, storage, backup, monitoring ...) Scripting: basic level language shell, batch, perl, python a good knowledge in ASP.NET MVC Web Developer (Visual studio) Profile: advanced computer training level +3 and you warrant significant experience of at least 3 years in a similar position ideally within call Centers you are independent and known for your sense of organization and the service you know make commitments and keep them, you have a good ability to analyze situations and you know prioritize your tasks We offer : a contract of CDI + NSSF coverage motivating remuneration according to experience working hours: Monday to Friday from 9am to 18pm a friendly working environment and a stable job From real prospects and internal mobility Send us your CV on: rh@pro2call.tn Or contact us directly on the following number: 28 60 40 94', 'Education & Experience: Bac +3 or equivalent. Good knowledge of computers. 5 years or more in the formation of inside sales: Soft Skills training and business knowledge in the world of telecom (fixed / mobile telephony and internet) is required. Profile: Master the perfect French Teaching Empathy Punctuality and exemplary ability to communicate, transmit and manage stress Force proposal, autonomous, dynamic organizational skills Ability to analyze / critical sense.', '- Excellent presentation - Fluency relational - Fluent digital in general', 'Good general knowledge, IT (internal audit operating systems main computer languages \\u200b\\u200bnetworks. Maintain and update resource records. Representing a structure of interconnected computer components Identifying hardware and software components that may interact with the installation Establish a first level diagnostics on the dysfunction affecting network malfunction implement safety instructions related to handling computer components exploit the environment of a network intranet / internet and update its main features Mastering the corporate IT environment master the basic computer knowledge to master basic computer vocabulary related to device technology network technologies, etc ... master the types of input data and master output devices related use and follow the evolution of software Estines to business users (mainly office tools) Master the quality of general principles Master the basic principal of programming Follow the ethical rules related to the profession properly communicate information in oral language Lying in the company and grow professionally tasks involving the assessment of needs in information technology, selection of appropriate solutions for computer and software and the evaluation of results Knowledge in ERP DIVALTO software CAD / CAM', 'Profile sought: You have an engineering degree or equivalent A minimum of two years experience developing on embedded projects (Domaine microcontroller is a plus) Skills required: Excellent knowledge of C / C ++ Familiar with RTOS Knowledge IDEs (IAR, Keil, GNU-Eclipse) Experiment STM32 platform is an important advantage Experience in development and implementation of self test environment is a plus Experience in testing and debugging is more Qualifications: team spirit Good level in French / English written and spoken Organization and autonomy Dynamism and versatility Proactivity Creativity and innovation and initiative taken', '- Minimum experience 3 years- Very good command of the language FRANCAISE- valid Visa will be an asset', 'Your profile to complete this mission: Higher education Web-oriented IT, you justify a successful experience of at least 3 years minimum in managing web projects, ideally in digital agency. You were involved in web application development projects such websites / intranets collaborative / Extranets / social networks .... You have mastered at least a content management system (CMS) used in such projects as Jalios or Drupal. You have built a strong web culture and know the basics and web development that the principles of web marketing and hosting. Force proposal, you have a taste for the challenge and teamwork. With excellent writing skills and relational know you convince your interlocutors and solve complex situations. Your curiosity, your customer focus and your passion for digital will be the guarantee of your success.', 'Deriving (e) of a higher training in communication or journalism with a digital specialization, you have a taste for the new digital and social media applications. Creative and force proposal, you want to put your writing skills at the service of a strong brand.', '06/07/2020', ' Ability to work in a team. Degree in Computer Science. knowledge in JavaScript development with good code development skills. Excellent knowledge in  HTML / CSS / bootstrap Excellent knowledge of jQuery Good  knowledge in js Libraries E.G. React JS Excellent oral and written communication skills in english ', 'Diplomas required business school degree, engineers, management and management level University degree Bac +5 (eg. Master 2 with a specialization either in the field of statistics, either in marketing or in control management ...) experience Duration 2 years minimum experience required in an analytical field (marketing, studies, statistics, management ...).']\n"
    }
   ],
   "source": [
    "print(trans)"
   ]
  },
  {
   "cell_type": "code",
   "execution_count": 22,
   "metadata": {},
   "outputs": [
    {
     "output_type": "execute_result",
     "data": {
      "text/plain": "98"
     },
     "metadata": {},
     "execution_count": 22
    }
   ],
   "source": [
    "len(trans)"
   ]
  },
  {
   "cell_type": "code",
   "execution_count": 27,
   "metadata": {},
   "outputs": [],
   "source": [
    "df['text']=trans"
   ]
  },
  {
   "cell_type": "code",
   "execution_count": 25,
   "metadata": {},
   "outputs": [],
   "source": [
    "# add trnaslate list in our dataframe\n",
    "df2 = pd.DataFrame(data=trans, columns={\"Translated\"})"
   ]
  },
  {
   "cell_type": "code",
   "execution_count": 33,
   "metadata": {},
   "outputs": [],
   "source": [
    "df=df.drop(columns={'description'})\n",
    "df=df.drop(columns={'transated'})"
   ]
  },
  {
   "cell_type": "code",
   "execution_count": 35,
   "metadata": {},
   "outputs": [],
   "source": [
    "df=df[['text','Tags']]"
   ]
  },
  {
   "cell_type": "code",
   "execution_count": 38,
   "metadata": {},
   "outputs": [
    {
     "output_type": "execute_result",
     "data": {
      "text/plain": "                                                text  \\\n0  Skills and Qualifications  Bachelor's degree i...   \n1  Profile: You have completed your technical stu...   \n2  Technical Skills: SQL Server / SQL, basic Sync...   \n3  In our R & D team, you will participate in the...   \n4  Job requirements you serious, motivated, punct...   \n\n                                                Tags  \n0  [informatique , Technologie de l'information ,...  \n1  ['Développeur  ', 'Informatique  ', 'Web  ', '...  \n2  ['Responsable Applicatif  ', 'Informatique  ',...  \n3  ['Ingénieur  ', 'Informatique  ', 'Développeme...  \n4  ['Formateur  ', 'Développement  ', 'Informatiq...  ",
      "text/html": "<div>\n<style scoped>\n    .dataframe tbody tr th:only-of-type {\n        vertical-align: middle;\n    }\n\n    .dataframe tbody tr th {\n        vertical-align: top;\n    }\n\n    .dataframe thead th {\n        text-align: right;\n    }\n</style>\n<table border=\"1\" class=\"dataframe\">\n  <thead>\n    <tr style=\"text-align: right;\">\n      <th></th>\n      <th>text</th>\n      <th>Tags</th>\n    </tr>\n  </thead>\n  <tbody>\n    <tr>\n      <th>0</th>\n      <td>Skills and Qualifications  Bachelor's degree i...</td>\n      <td>[informatique , Technologie de l'information ,...</td>\n    </tr>\n    <tr>\n      <th>1</th>\n      <td>Profile: You have completed your technical stu...</td>\n      <td>['Développeur  ', 'Informatique  ', 'Web  ', '...</td>\n    </tr>\n    <tr>\n      <th>2</th>\n      <td>Technical Skills: SQL Server / SQL, basic Sync...</td>\n      <td>['Responsable Applicatif  ', 'Informatique  ',...</td>\n    </tr>\n    <tr>\n      <th>3</th>\n      <td>In our R &amp; D team, you will participate in the...</td>\n      <td>['Ingénieur  ', 'Informatique  ', 'Développeme...</td>\n    </tr>\n    <tr>\n      <th>4</th>\n      <td>Job requirements you serious, motivated, punct...</td>\n      <td>['Formateur  ', 'Développement  ', 'Informatiq...</td>\n    </tr>\n  </tbody>\n</table>\n</div>"
     },
     "metadata": {},
     "execution_count": 38
    }
   ],
   "source": [
    "df.head()"
   ]
  },
  {
   "cell_type": "code",
   "execution_count": 37,
   "metadata": {},
   "outputs": [],
   "source": [
    "df.to_csv(\"Tanitjobs.csv\")"
   ]
  },
  {
   "cell_type": "markdown",
   "metadata": {},
   "source": [
    "# `*********************************`"
   ]
  },
  {
   "cell_type": "code",
   "execution_count": 4,
   "metadata": {},
   "outputs": [
    {
     "output_type": "error",
     "ename": "NoSuchWindowException",
     "evalue": "Message: no such window: target window already closed\nfrom unknown error: web view not found\n  (Session info: chrome=83.0.4103.61)\n",
     "traceback": [
      "\u001b[1;31m---------------------------------------------------------------------------\u001b[0m",
      "\u001b[1;31mNoSuchWindowException\u001b[0m                     Traceback (most recent call last)",
      "\u001b[1;32m<ipython-input-4-e225c6980f28>\u001b[0m in \u001b[0;36m<module>\u001b[1;34m\u001b[0m\n\u001b[0;32m      6\u001b[0m \u001b[1;33m\u001b[0m\u001b[0m\n\u001b[0;32m      7\u001b[0m \u001b[0mdriver\u001b[0m\u001b[1;33m.\u001b[0m\u001b[0mget\u001b[0m\u001b[1;33m(\u001b[0m\u001b[1;34m\"https://www.tanitjobs.com/\"\u001b[0m\u001b[1;33m)\u001b[0m\u001b[1;33m\u001b[0m\u001b[1;33m\u001b[0m\u001b[0m\n\u001b[1;32m----> 8\u001b[1;33m \u001b[0mdriver\u001b[0m\u001b[1;33m.\u001b[0m\u001b[0mfind_element_by_xpath\u001b[0m\u001b[1;33m(\u001b[0m\u001b[1;34m'//*[@id=\"keywords\"]'\u001b[0m\u001b[1;33m)\u001b[0m\u001b[1;33m.\u001b[0m\u001b[0msend_keys\u001b[0m\u001b[1;33m(\u001b[0m\u001b[1;34m\"it\"\u001b[0m\u001b[1;33m,\u001b[0m\u001b[0mKeys\u001b[0m\u001b[1;33m.\u001b[0m\u001b[0mENTER\u001b[0m\u001b[1;33m)\u001b[0m\u001b[1;33m\u001b[0m\u001b[1;33m\u001b[0m\u001b[0m\n\u001b[0m\u001b[0;32m      9\u001b[0m \u001b[0mtime\u001b[0m\u001b[1;33m.\u001b[0m\u001b[0msleep\u001b[0m\u001b[1;33m(\u001b[0m\u001b[1;36m1\u001b[0m\u001b[1;33m)\u001b[0m\u001b[1;33m\u001b[0m\u001b[1;33m\u001b[0m\u001b[0m\n\u001b[0;32m     10\u001b[0m \u001b[1;33m\u001b[0m\u001b[0m\n",
      "\u001b[1;32mD:\\Anaconda\\lib\\site-packages\\selenium\\webdriver\\remote\\webdriver.py\u001b[0m in \u001b[0;36mfind_element_by_xpath\u001b[1;34m(self, xpath)\u001b[0m\n\u001b[0;32m    392\u001b[0m             \u001b[0melement\u001b[0m \u001b[1;33m=\u001b[0m \u001b[0mdriver\u001b[0m\u001b[1;33m.\u001b[0m\u001b[0mfind_element_by_xpath\u001b[0m\u001b[1;33m(\u001b[0m\u001b[1;34m'//div/td[1]'\u001b[0m\u001b[1;33m)\u001b[0m\u001b[1;33m\u001b[0m\u001b[1;33m\u001b[0m\u001b[0m\n\u001b[0;32m    393\u001b[0m         \"\"\"\n\u001b[1;32m--> 394\u001b[1;33m         \u001b[1;32mreturn\u001b[0m \u001b[0mself\u001b[0m\u001b[1;33m.\u001b[0m\u001b[0mfind_element\u001b[0m\u001b[1;33m(\u001b[0m\u001b[0mby\u001b[0m\u001b[1;33m=\u001b[0m\u001b[0mBy\u001b[0m\u001b[1;33m.\u001b[0m\u001b[0mXPATH\u001b[0m\u001b[1;33m,\u001b[0m \u001b[0mvalue\u001b[0m\u001b[1;33m=\u001b[0m\u001b[0mxpath\u001b[0m\u001b[1;33m)\u001b[0m\u001b[1;33m\u001b[0m\u001b[1;33m\u001b[0m\u001b[0m\n\u001b[0m\u001b[0;32m    395\u001b[0m \u001b[1;33m\u001b[0m\u001b[0m\n\u001b[0;32m    396\u001b[0m     \u001b[1;32mdef\u001b[0m \u001b[0mfind_elements_by_xpath\u001b[0m\u001b[1;33m(\u001b[0m\u001b[0mself\u001b[0m\u001b[1;33m,\u001b[0m \u001b[0mxpath\u001b[0m\u001b[1;33m)\u001b[0m\u001b[1;33m:\u001b[0m\u001b[1;33m\u001b[0m\u001b[1;33m\u001b[0m\u001b[0m\n",
      "\u001b[1;32mD:\\Anaconda\\lib\\site-packages\\selenium\\webdriver\\remote\\webdriver.py\u001b[0m in \u001b[0;36mfind_element\u001b[1;34m(self, by, value)\u001b[0m\n\u001b[0;32m    976\u001b[0m         return self.execute(Command.FIND_ELEMENT, {\n\u001b[0;32m    977\u001b[0m             \u001b[1;34m'using'\u001b[0m\u001b[1;33m:\u001b[0m \u001b[0mby\u001b[0m\u001b[1;33m,\u001b[0m\u001b[1;33m\u001b[0m\u001b[1;33m\u001b[0m\u001b[0m\n\u001b[1;32m--> 978\u001b[1;33m             'value': value})['value']\n\u001b[0m\u001b[0;32m    979\u001b[0m \u001b[1;33m\u001b[0m\u001b[0m\n\u001b[0;32m    980\u001b[0m     \u001b[1;32mdef\u001b[0m \u001b[0mfind_elements\u001b[0m\u001b[1;33m(\u001b[0m\u001b[0mself\u001b[0m\u001b[1;33m,\u001b[0m \u001b[0mby\u001b[0m\u001b[1;33m=\u001b[0m\u001b[0mBy\u001b[0m\u001b[1;33m.\u001b[0m\u001b[0mID\u001b[0m\u001b[1;33m,\u001b[0m \u001b[0mvalue\u001b[0m\u001b[1;33m=\u001b[0m\u001b[1;32mNone\u001b[0m\u001b[1;33m)\u001b[0m\u001b[1;33m:\u001b[0m\u001b[1;33m\u001b[0m\u001b[1;33m\u001b[0m\u001b[0m\n",
      "\u001b[1;32mD:\\Anaconda\\lib\\site-packages\\selenium\\webdriver\\remote\\webdriver.py\u001b[0m in \u001b[0;36mexecute\u001b[1;34m(self, driver_command, params)\u001b[0m\n\u001b[0;32m    319\u001b[0m         \u001b[0mresponse\u001b[0m \u001b[1;33m=\u001b[0m \u001b[0mself\u001b[0m\u001b[1;33m.\u001b[0m\u001b[0mcommand_executor\u001b[0m\u001b[1;33m.\u001b[0m\u001b[0mexecute\u001b[0m\u001b[1;33m(\u001b[0m\u001b[0mdriver_command\u001b[0m\u001b[1;33m,\u001b[0m \u001b[0mparams\u001b[0m\u001b[1;33m)\u001b[0m\u001b[1;33m\u001b[0m\u001b[1;33m\u001b[0m\u001b[0m\n\u001b[0;32m    320\u001b[0m         \u001b[1;32mif\u001b[0m \u001b[0mresponse\u001b[0m\u001b[1;33m:\u001b[0m\u001b[1;33m\u001b[0m\u001b[1;33m\u001b[0m\u001b[0m\n\u001b[1;32m--> 321\u001b[1;33m             \u001b[0mself\u001b[0m\u001b[1;33m.\u001b[0m\u001b[0merror_handler\u001b[0m\u001b[1;33m.\u001b[0m\u001b[0mcheck_response\u001b[0m\u001b[1;33m(\u001b[0m\u001b[0mresponse\u001b[0m\u001b[1;33m)\u001b[0m\u001b[1;33m\u001b[0m\u001b[1;33m\u001b[0m\u001b[0m\n\u001b[0m\u001b[0;32m    322\u001b[0m             response['value'] = self._unwrap_value(\n\u001b[0;32m    323\u001b[0m                 response.get('value', None))\n",
      "\u001b[1;32mD:\\Anaconda\\lib\\site-packages\\selenium\\webdriver\\remote\\errorhandler.py\u001b[0m in \u001b[0;36mcheck_response\u001b[1;34m(self, response)\u001b[0m\n\u001b[0;32m    240\u001b[0m                 \u001b[0malert_text\u001b[0m \u001b[1;33m=\u001b[0m \u001b[0mvalue\u001b[0m\u001b[1;33m[\u001b[0m\u001b[1;34m'alert'\u001b[0m\u001b[1;33m]\u001b[0m\u001b[1;33m.\u001b[0m\u001b[0mget\u001b[0m\u001b[1;33m(\u001b[0m\u001b[1;34m'text'\u001b[0m\u001b[1;33m)\u001b[0m\u001b[1;33m\u001b[0m\u001b[1;33m\u001b[0m\u001b[0m\n\u001b[0;32m    241\u001b[0m             \u001b[1;32mraise\u001b[0m \u001b[0mexception_class\u001b[0m\u001b[1;33m(\u001b[0m\u001b[0mmessage\u001b[0m\u001b[1;33m,\u001b[0m \u001b[0mscreen\u001b[0m\u001b[1;33m,\u001b[0m \u001b[0mstacktrace\u001b[0m\u001b[1;33m,\u001b[0m \u001b[0malert_text\u001b[0m\u001b[1;33m)\u001b[0m\u001b[1;33m\u001b[0m\u001b[1;33m\u001b[0m\u001b[0m\n\u001b[1;32m--> 242\u001b[1;33m         \u001b[1;32mraise\u001b[0m \u001b[0mexception_class\u001b[0m\u001b[1;33m(\u001b[0m\u001b[0mmessage\u001b[0m\u001b[1;33m,\u001b[0m \u001b[0mscreen\u001b[0m\u001b[1;33m,\u001b[0m \u001b[0mstacktrace\u001b[0m\u001b[1;33m)\u001b[0m\u001b[1;33m\u001b[0m\u001b[1;33m\u001b[0m\u001b[0m\n\u001b[0m\u001b[0;32m    243\u001b[0m \u001b[1;33m\u001b[0m\u001b[0m\n\u001b[0;32m    244\u001b[0m     \u001b[1;32mdef\u001b[0m \u001b[0m_value_or_default\u001b[0m\u001b[1;33m(\u001b[0m\u001b[0mself\u001b[0m\u001b[1;33m,\u001b[0m \u001b[0mobj\u001b[0m\u001b[1;33m,\u001b[0m \u001b[0mkey\u001b[0m\u001b[1;33m,\u001b[0m \u001b[0mdefault\u001b[0m\u001b[1;33m)\u001b[0m\u001b[1;33m:\u001b[0m\u001b[1;33m\u001b[0m\u001b[1;33m\u001b[0m\u001b[0m\n",
      "\u001b[1;31mNoSuchWindowException\u001b[0m: Message: no such window: target window already closed\nfrom unknown error: web view not found\n  (Session info: chrome=83.0.4103.61)\n"
     ]
    }
   ],
   "source": [
    "options =webdriver.ChromeOptions()\n",
    "options.headless=False\n",
    "prefs={\"profile.default_content_setting_values.notifications\" :2}\n",
    "options.add_experimental_option(\"prefs\",prefs)\n",
    "driver = webdriver.Chrome('C:/chromedriver/chromedriver.exe')\n",
    "\n",
    "driver.get(\"https://www.tanitjobs.com/\")\n",
    "driver.find_element_by_xpath('//*[@id=\"keywords\"]').send_keys(\"it\",Keys.ENTER)\n",
    "time.sleep(1)\n",
    "\n",
    "\n",
    "num_links = len(driver.find_elements_by_class_name('pad_right_small'))\n",
    "num_links\n",
    "\n",
    "a=0\n",
    "for i in range(50):\n",
    "    driver.find_element_by_xpath(\"/html/body/div[1]/div/div[2]/div[3]/div[4]/button\").click()\n",
    "    a+=1\n",
    "\n",
    "\n",
    "for i in range(len(driver.find_elements_by_class_name(\"link\"))):\n",
    "    button = driver.find_elements_by_class_name(\"link\")[i]\n",
    "    button.click()\n",
    "    print(driver.current_url)\n",
    "    driver.execute_script(\"window.history.go(-1)\")  "
   ]
  },
  {
   "cell_type": "code",
   "execution_count": null,
   "metadata": {},
   "outputs": [],
   "source": [
    "list_url.remove(list_url[0])"
   ]
  },
  {
   "cell_type": "code",
   "execution_count": null,
   "metadata": {},
   "outputs": [],
   "source": [
    "zebi=0\n",
    "for i in range(len(list_url)):\n",
    "    urlpage = list_url[i]\n",
    "    page = urllib.request.urlopen(urlpage)\n",
    "    soup = BeautifulSoup(page, 'html.parser')\n",
    "\n",
    "    description =soup.find_all('div', class_='details-body__content content-text')[0].get_text()\n",
    "    description = description.replace(u'\\xa0', u' ')\n",
    "    description = description.replace(u'\\n', u' ')\n",
    "\n",
    "    uls = soup.select(\"div.bootstrap-tagsinput\")\n",
    "    text = [a.text for ul in uls for a in  ul.select(\"a\")]\n",
    "#------------------------------------------------------------------------------------\n",
    "\n",
    "    df = pd.DataFrame({'description':[description],'Tags':[text]})\n",
    "    df = pd.concat([df, df_temp])\n",
    "    #Delet index\n",
    "    df.reset_index(drop=True, inplace=True)\n",
    "\n",
    "    df.to_csv('Tanitjobs.csv',index=False)\n",
    "\n",
    "    zebi+=1    "
   ]
  },
  {
   "cell_type": "code",
   "execution_count": null,
   "metadata": {},
   "outputs": [],
   "source": []
  },
  {
   "cell_type": "code",
   "execution_count": null,
   "metadata": {},
   "outputs": [],
   "source": []
  },
  {
   "cell_type": "code",
   "execution_count": null,
   "metadata": {},
   "outputs": [],
   "source": []
  },
  {
   "cell_type": "code",
   "execution_count": null,
   "metadata": {},
   "outputs": [],
   "source": []
  },
  {
   "cell_type": "code",
   "execution_count": 39,
   "metadata": {},
   "outputs": [],
   "source": [
    "df=pd.read_csv('ideed_Eng.csv')"
   ]
  },
  {
   "cell_type": "code",
   "execution_count": 40,
   "metadata": {},
   "outputs": [
    {
     "output_type": "execute_result",
     "data": {
      "text/plain": "        entreprise                             titre  \\\n0     The Standard             Senior Data Scientist   \n1        dunnhumby     Senior Applied Data Scientist   \n2      HEPCO, Inc.             Senior Data Scientist   \n3      One Concern  Data Scientist, Machine Learning   \n4  Grammarly, Inc.                    Data Scientist   \n\n                                         description  \n0  At The Standard, you’ll join a team focused on...  \n1  dunnhumby is the world’s leading customer scie...  \n2  SENIOR DATA SCIENTIST  HEPCO, Inc., is seeking...  \n3  One Concern is a startup which specializes in ...  \n4  The opportunity  Grammarly empowers people to ...  ",
      "text/html": "<div>\n<style scoped>\n    .dataframe tbody tr th:only-of-type {\n        vertical-align: middle;\n    }\n\n    .dataframe tbody tr th {\n        vertical-align: top;\n    }\n\n    .dataframe thead th {\n        text-align: right;\n    }\n</style>\n<table border=\"1\" class=\"dataframe\">\n  <thead>\n    <tr style=\"text-align: right;\">\n      <th></th>\n      <th>entreprise</th>\n      <th>titre</th>\n      <th>description</th>\n    </tr>\n  </thead>\n  <tbody>\n    <tr>\n      <th>0</th>\n      <td>The Standard</td>\n      <td>Senior Data Scientist</td>\n      <td>At The Standard, you’ll join a team focused on...</td>\n    </tr>\n    <tr>\n      <th>1</th>\n      <td>dunnhumby</td>\n      <td>Senior Applied Data Scientist</td>\n      <td>dunnhumby is the world’s leading customer scie...</td>\n    </tr>\n    <tr>\n      <th>2</th>\n      <td>HEPCO, Inc.</td>\n      <td>Senior Data Scientist</td>\n      <td>SENIOR DATA SCIENTIST  HEPCO, Inc., is seeking...</td>\n    </tr>\n    <tr>\n      <th>3</th>\n      <td>One Concern</td>\n      <td>Data Scientist, Machine Learning</td>\n      <td>One Concern is a startup which specializes in ...</td>\n    </tr>\n    <tr>\n      <th>4</th>\n      <td>Grammarly, Inc.</td>\n      <td>Data Scientist</td>\n      <td>The opportunity  Grammarly empowers people to ...</td>\n    </tr>\n  </tbody>\n</table>\n</div>"
     },
     "metadata": {},
     "execution_count": 40
    }
   ],
   "source": [
    "df.head()"
   ]
  },
  {
   "cell_type": "code",
   "execution_count": null,
   "metadata": {},
   "outputs": [],
   "source": []
  },
  {
   "cell_type": "code",
   "execution_count": null,
   "metadata": {},
   "outputs": [],
   "source": []
  },
  {
   "cell_type": "code",
   "execution_count": null,
   "metadata": {},
   "outputs": [],
   "source": []
  },
  {
   "cell_type": "code",
   "execution_count": null,
   "metadata": {},
   "outputs": [],
   "source": []
  },
  {
   "cell_type": "code",
   "execution_count": null,
   "metadata": {},
   "outputs": [],
   "source": []
  },
  {
   "cell_type": "code",
   "execution_count": null,
   "metadata": {},
   "outputs": [],
   "source": []
  },
  {
   "cell_type": "code",
   "execution_count": null,
   "metadata": {},
   "outputs": [],
   "source": []
  },
  {
   "cell_type": "code",
   "execution_count": null,
   "metadata": {},
   "outputs": [],
   "source": []
  },
  {
   "cell_type": "code",
   "execution_count": null,
   "metadata": {},
   "outputs": [],
   "source": []
  },
  {
   "cell_type": "code",
   "execution_count": 1,
   "metadata": {},
   "outputs": [],
   "source": [
    "import tensorflow_datasets as tfds\n",
    "import tensorflow as tf\n",
    "from tensorflow.keras.preprocessing.text import Tokenizer\n",
    "from tensorflow.keras.preprocessing.sequence import pad_sequences"
   ]
  },
  {
   "cell_type": "code",
   "execution_count": 67,
   "metadata": {},
   "outputs": [],
   "source": [
    "class SkillsExtractorNN:\n",
    "\n",
    "    def __init__(self, word_features_dim, dense_features_dim):\n",
    "\n",
    "        lstm_input_phrase = keras.layers.Input(shape=(None, word_features_dim))\n",
    "        lstm_input_cont = keras.layers.Input(shape=(None, word_features_dim))\n",
    "        dense_input = keras.layers.Input(shape=(dense_features_dim,))\n",
    "\n",
    "        lstm_emb_phrase = keras.layers.LSTM(256)(lstm_input_phrase)\n",
    "        lstm_emb_phrase = keras.layers.Dense(128, activation='relu')(lstm_emb_phrase)\n",
    "\n",
    "        lstm_emb_cont = keras.layers.LSTM(256)(lstm_input_cont)\n",
    "        lstm_emb_cont = keras.layers.Dense(128, activation='relu')(lstm_emb_cont)\n",
    "\n",
    "        dense_emb = keras.layers.Dense(512, activation='relu')(dense_input)\n",
    "        dense_emb = keras.layers.Dense(256, activation='relu')(dense_emb)\n",
    "\n",
    "        x = keras.layers.concatenate([lstm_emb_phrase, lstm_emb_cont, dense_emb])\n",
    "        x = keras.layers.Dense(128, activation='relu')(x)\n",
    "        x = keras.layers.Dense(64, activation='relu')(x)\n",
    "        x = keras.layers.Dense(32, activation='relu')(x)\n",
    "\n",
    "        main_output = keras.layers.Dense(2, activation='softplus')(x)\n",
    "\n",
    "        self.model = keras.models.Model(inputs=[lstm_input_phrase, lstm_input_cont, dense_input],\n",
    "                                        outputs=main_output)\n",
    "\n",
    "        optimizer = keras.optimizers.Adam(lr=0.0001)\n",
    "\n",
    "        self.model.compile(optimizer=optimizer, loss='binary_crossentropy')"
   ]
  },
  {
   "cell_type": "code",
   "execution_count": 1,
   "metadata": {},
   "outputs": [],
   "source": [
    "    def fit(self, x_lstm_phrase, x_lstm_context, x_dense, y,\n",
    "            val_split=0.25, patience=5, max_epochs=1000, batch_size=32):\n",
    "\n",
    "        x_lstm_phrase_seq = keras.preprocessing.sequence.pad_sequences(x_lstm_phrase)\n",
    "        x_lstm_context_seq = keras.preprocessing.sequence.pad_sequences(x_lstm_context)\n",
    "\n",
    "        y_onehot = onehot_transform(y)\n",
    "\n",
    "        self.model.fit([x_lstm_phrase_seq, x_lstm_context_seq, x_dense],\n",
    "                       y_onehot,\n",
    "                       batch_size=batch_size,\n",
    "                       pochs=max_epochs,\n",
    "                       validation_split=val_split,\n",
    "                       callbacks=[keras.callbacks.EarlyStopping(monitor='val_loss', patience=patience)])\n",
    "\n",
    "\n",
    "    def predict(self, x_lstm_phrase, x_lstm_context, x_dense):\n",
    "\n",
    "        x_lstm_phrase_seq = keras.preprocessing.sequence.pad_sequences(x_lstm_phrase)\n",
    "        x_lstm_context_seq = keras.preprocessing.sequence.pad_sequences(x_lstm_context)\n",
    "\n",
    "        y = self.model.predict([x_lstm_phrase_seq, x_lstm_context_seq, x_dense])\n",
    "\n",
    "        return y"
   ]
  },
  {
   "cell_type": "code",
   "execution_count": 3,
   "metadata": {},
   "outputs": [],
   "source": [
    "def onehot_transform(y):\n",
    "\n",
    "    onehot_y = []\n",
    "\n",
    "    for numb in y:\n",
    "        onehot_arr = np.zeros(2)\n",
    "        onehot_arr[numb] = 1\n",
    "        onehot_y.append(np.array(onehot_arr))\n",
    "\n",
    "    return np.array(onehot_y)"
   ]
  },
  {
   "cell_type": "code",
   "execution_count": null,
   "metadata": {},
   "outputs": [],
   "source": []
  }
 ],
 "metadata": {
  "language_info": {
   "codemirror_mode": {
    "name": "ipython",
    "version": 3
   },
   "file_extension": ".py",
   "mimetype": "text/x-python",
   "name": "python",
   "nbconvert_exporter": "python",
   "pygments_lexer": "ipython3",
   "version": "3.7.1-final"
  },
  "orig_nbformat": 2,
  "kernelspec": {
   "name": "python3",
   "display_name": "Python 3"
  }
 },
 "nbformat": 4,
 "nbformat_minor": 2
}