{
 "cells": [
  {
   "cell_type": "code",
   "execution_count": 19,
   "metadata": {},
   "outputs": [],
   "source": [
    "from bs4 import BeautifulSoup\n",
    "import urllib.request\n",
    "import csv\n",
    "from lxml import html\n",
    "import requests\n",
    "from selenium.webdriver.support.ui import WebDriverWait\n",
    "import pandas as pd"
   ]
  },
  {
   "cell_type": "markdown",
   "metadata": {},
   "source": [
    "# Scraping `Tanitjobs.com`"
   ]
  },
  {
   "cell_type": "code",
   "execution_count": 20,
   "metadata": {},
   "outputs": [],
   "source": [
    "df_temp=pd.read_csv('Tanitjobs.csv')"
   ]
  },
  {
   "cell_type": "code",
   "execution_count": 21,
   "metadata": {},
   "outputs": [],
   "source": [
    "urlpage = 'https://www.tanitjobs.com/job/618745/charg%C3%A9-de-client%C3%A8le-assistance-commerciale-r%C3%A9ception-d-appels-h-f/?backPage=1&searchID=1591289493.9611'"
   ]
  },
  {
   "cell_type": "code",
   "execution_count": 22,
   "metadata": {},
   "outputs": [],
   "source": [
    "# return the html to the variable 'page'\n",
    "page = urllib.request.urlopen(urlpage)\n",
    "\n",
    "# Analyze the html using beautiful soup\n",
    "soup = BeautifulSoup(page, 'html.parser')"
   ]
  },
  {
   "cell_type": "code",
   "execution_count": 23,
   "metadata": {},
   "outputs": [],
   "source": [
    "entreprise = soup.find_all('li', class_='listing-item__info--item listing-item__info--item-company')[0].get_text()\n",
    "lieu = soup.find_all('li', class_='listing-item__info--item listing-item__info--item-location')[0].get_text()\n",
    "lieu = lieu.replace(u'\\t', u'')\n",
    "\n",
    "title=soup.find_all('h1')[0].get_text()\n",
    "#candidats =soup.find_all('div', class_='applicants-num')[0].get_text()\n",
    "#postes=soup.find_all('span', class_='vacancies-num')[0].get_text()\n",
    "\n",
    "description =soup.find_all('div', class_='details-body__content content-text')[0].get_text()\n",
    "description = description.replace(u'\\xa0', u' ')\n",
    "description = description.replace(u'\\n', u' ')\n",
    "\n",
    "exigences = soup.find_all('div', class_='details-body__content content-text')[1].get_text()\n",
    "exigences = exigences.replace(u'\\xa0', u' ')\n",
    "exigences = exigences.replace(u'\\n', u' ')\n",
    "\n",
    "dateExpiration = soup.find_all('div', class_='details-body__content content-text')[2].get_text()\n"
   ]
  },
  {
   "cell_type": "code",
   "execution_count": 24,
   "metadata": {},
   "outputs": [],
   "source": [
    "df = pd.DataFrame({\n",
    " 'entreprise':[entreprise],\n",
    "'lieu':[lieu],\n",
    "'titre':[title],\n",
    "'description':[description],\n",
    "'exigences':[exigences],\n",
    "'dateExpiration':[dateExpiration]\n",
    "})"
   ]
  },
  {
   "cell_type": "code",
   "execution_count": 25,
   "metadata": {
    "tags": [
     "outputPrepend"
    ]
   },
   "outputs": [
    {
     "output_type": "execute_result",
     "data": {
      "text/plain": "           entreprise              lieu  \\\n0   Armatis-lc Tunis     Tunis, Tunisie   \n\n                                               titre  \\\n0   Chargé de Clientèle Assistance Commerciale (R...   \n\n                                         description  \\\n0  Dans le cadre du développement de notre site d...   \n\n                                           exigences dateExpiration  \n0   Vous maîtrisez la langue française à l'écrit ...     26/06/2020  ",
      "text/html": "<div>\n<style scoped>\n    .dataframe tbody tr th:only-of-type {\n        vertical-align: middle;\n    }\n\n    .dataframe tbody tr th {\n        vertical-align: top;\n    }\n\n    .dataframe thead th {\n        text-align: right;\n    }\n</style>\n<table border=\"1\" class=\"dataframe\">\n  <thead>\n    <tr style=\"text-align: right;\">\n      <th></th>\n      <th>entreprise</th>\n      <th>lieu</th>\n      <th>titre</th>\n      <th>description</th>\n      <th>exigences</th>\n      <th>dateExpiration</th>\n    </tr>\n  </thead>\n  <tbody>\n    <tr>\n      <th>0</th>\n      <td>Armatis-lc Tunis</td>\n      <td>Tunis, Tunisie</td>\n      <td>Chargé de Clientèle Assistance Commerciale (R...</td>\n      <td>Dans le cadre du développement de notre site d...</td>\n      <td>Vous maîtrisez la langue française à l'écrit ...</td>\n      <td>26/06/2020</td>\n    </tr>\n  </tbody>\n</table>\n</div>"
     },
     "metadata": {},
     "execution_count": 25
    }
   ],
   "source": [
    "df"
   ]
  },
  {
   "cell_type": "code",
   "execution_count": 374,
   "metadata": {},
   "outputs": [],
   "source": [
    "df = pd.concat([df, df_temp])\n",
    "#Delet index\n",
    "df.reset_index(drop=True, inplace=True)"
   ]
  },
  {
   "cell_type": "code",
   "execution_count": 12,
   "metadata": {},
   "outputs": [
    {
     "output_type": "execute_result",
     "data": {
      "text/plain": "                        entreprise              lieu           titre  \\\n0   Faurecia Informatique Tunisie     Tunis, Tunisie   Data Engineer   \n\n                                         description  \\\n0  Our IT Department – Group Information Systems ...   \n\n                                           exigences dateExpiration  \n0  Qualifications:  Minimum of 2 years of experie...     22/05/2020  ",
      "text/html": "<div>\n<style scoped>\n    .dataframe tbody tr th:only-of-type {\n        vertical-align: middle;\n    }\n\n    .dataframe tbody tr th {\n        vertical-align: top;\n    }\n\n    .dataframe thead th {\n        text-align: right;\n    }\n</style>\n<table border=\"1\" class=\"dataframe\">\n  <thead>\n    <tr style=\"text-align: right;\">\n      <th></th>\n      <th>entreprise</th>\n      <th>lieu</th>\n      <th>titre</th>\n      <th>description</th>\n      <th>exigences</th>\n      <th>dateExpiration</th>\n    </tr>\n  </thead>\n  <tbody>\n    <tr>\n      <th>0</th>\n      <td>Faurecia Informatique Tunisie</td>\n      <td>Tunis, Tunisie</td>\n      <td>Data Engineer</td>\n      <td>Our IT Department – Group Information Systems ...</td>\n      <td>Qualifications:  Minimum of 2 years of experie...</td>\n      <td>22/05/2020</td>\n    </tr>\n  </tbody>\n</table>\n</div>"
     },
     "metadata": {},
     "execution_count": 12
    }
   ],
   "source": [
    "df"
   ]
  },
  {
   "cell_type": "code",
   "execution_count": 376,
   "metadata": {},
   "outputs": [],
   "source": [
    "df.to_csv('Tanitjobs.csv',index=False)"
   ]
  },
  {
   "cell_type": "code",
   "execution_count": 26,
   "metadata": {},
   "outputs": [],
   "source": [
    "from googletrans import Translator\n",
    "translator = Translator()\n",
    "df['English'] = df['description'].apply(translator.translate, src='es', dest='en').apply(getattr, args=('text',))"
   ]
  },
  {
   "cell_type": "code",
   "execution_count": 27,
   "metadata": {},
   "outputs": [
    {
     "output_type": "execute_result",
     "data": {
      "text/plain": "           entreprise              lieu  \\\n0   Armatis-lc Tunis     Tunis, Tunisie   \n\n                                               titre  \\\n0   Chargé de Clientèle Assistance Commerciale (R...   \n\n                                         description  \\\n0  Dans le cadre du développement de notre site d...   \n\n                                           exigences dateExpiration  \\\n0   Vous maîtrisez la langue française à l'écrit ...     26/06/2020   \n\n                                             English  \n0  Dans le cadre du développement Notre site Tuni...  ",
      "text/html": "<div>\n<style scoped>\n    .dataframe tbody tr th:only-of-type {\n        vertical-align: middle;\n    }\n\n    .dataframe tbody tr th {\n        vertical-align: top;\n    }\n\n    .dataframe thead th {\n        text-align: right;\n    }\n</style>\n<table border=\"1\" class=\"dataframe\">\n  <thead>\n    <tr style=\"text-align: right;\">\n      <th></th>\n      <th>entreprise</th>\n      <th>lieu</th>\n      <th>titre</th>\n      <th>description</th>\n      <th>exigences</th>\n      <th>dateExpiration</th>\n      <th>English</th>\n    </tr>\n  </thead>\n  <tbody>\n    <tr>\n      <th>0</th>\n      <td>Armatis-lc Tunis</td>\n      <td>Tunis, Tunisie</td>\n      <td>Chargé de Clientèle Assistance Commerciale (R...</td>\n      <td>Dans le cadre du développement de notre site d...</td>\n      <td>Vous maîtrisez la langue française à l'écrit ...</td>\n      <td>26/06/2020</td>\n      <td>Dans le cadre du développement Notre site Tuni...</td>\n    </tr>\n  </tbody>\n</table>\n</div>"
     },
     "metadata": {},
     "execution_count": 27
    }
   ],
   "source": [
    "df.head()"
   ]
  },
  {
   "cell_type": "code",
   "execution_count": 377,
   "metadata": {},
   "outputs": [
    {
     "output_type": "error",
     "ename": "SyntaxError",
     "evalue": "invalid syntax (<ipython-input-377-9d09575a70ff>, line 1)",
     "traceback": [
      "\u001b[1;36m  File \u001b[1;32m\"<ipython-input-377-9d09575a70ff>\"\u001b[1;36m, line \u001b[1;32m1\u001b[0m\n\u001b[1;33m    https://www.tanitjobs.com/job/643840/data-scientist-m-f/?backPage=1&searchID=1589474879.9697\u001b[0m\n\u001b[1;37m           ^\u001b[0m\n\u001b[1;31mSyntaxError\u001b[0m\u001b[1;31m:\u001b[0m invalid syntax\n"
     ]
    }
   ],
   "source": [
    "https://www.tanitjobs.com/job/643840/data-scientist-m-f/?backPage=1&searchID=1589474879.9697\n",
    "https://www.tanitjobs.com/job/647848/junior-data-scientist/?backPage=1&searchID=1589474976.5587\n",
    "https://www.tanitjobs.com/job/643838/big-data-engineer-m-f/?backPage=1&searchID=1589474927.8186"
   ]
  },
  {
   "cell_type": "markdown",
   "metadata": {},
   "source": [
    "# `indeed.fr`"
   ]
  },
  {
   "cell_type": "code",
   "execution_count": 2,
   "metadata": {},
   "outputs": [],
   "source": [
    "from selenium import webdriver\n",
    "from selenium.webdriver.support.ui import WebDriverWait\n",
    "from selenium.webdriver.support import expected_conditions as EC\n",
    "from selenium.webdriver.common.by import By\n",
    "from selenium.common.exceptions import TimeoutException\n",
    "from selenium.webdriver.common.keys import Keys\n",
    "import time"
   ]
  },
  {
   "cell_type": "code",
   "execution_count": 31,
   "metadata": {},
   "outputs": [
    {
     "output_type": "error",
     "ename": "IndexError",
     "evalue": "list index out of range",
     "traceback": [
      "\u001b[1;31m---------------------------------------------------------------------------\u001b[0m",
      "\u001b[1;31mIndexError\u001b[0m                                Traceback (most recent call last)",
      "\u001b[1;32m<ipython-input-31-24bce50dcff9>\u001b[0m in \u001b[0;36m<module>\u001b[1;34m\u001b[0m\n\u001b[0;32m     28\u001b[0m     \u001b[0mtime\u001b[0m\u001b[1;33m.\u001b[0m\u001b[0msleep\u001b[0m\u001b[1;33m(\u001b[0m\u001b[1;36m10\u001b[0m\u001b[1;33m)\u001b[0m\u001b[1;33m\u001b[0m\u001b[1;33m\u001b[0m\u001b[0m\n\u001b[0;32m     29\u001b[0m     \u001b[0msoup\u001b[0m \u001b[1;33m=\u001b[0m \u001b[0mBeautifulSoup\u001b[0m\u001b[1;33m(\u001b[0m\u001b[0mdriver\u001b[0m\u001b[1;33m.\u001b[0m\u001b[0mpage_source\u001b[0m\u001b[1;33m,\u001b[0m \u001b[1;34m'html.parser'\u001b[0m\u001b[1;33m)\u001b[0m\u001b[1;33m\u001b[0m\u001b[1;33m\u001b[0m\u001b[0m\n\u001b[1;32m---> 30\u001b[1;33m     \u001b[0mdescriptionJob\u001b[0m \u001b[1;33m=\u001b[0m\u001b[0msoup\u001b[0m\u001b[1;33m.\u001b[0m\u001b[0mfind_all\u001b[0m\u001b[1;33m(\u001b[0m\u001b[1;34m'div'\u001b[0m\u001b[1;33m,\u001b[0m \u001b[0mid_\u001b[0m\u001b[1;33m=\u001b[0m\u001b[1;34m'vjs-desc'\u001b[0m\u001b[1;33m)\u001b[0m\u001b[1;33m[\u001b[0m\u001b[1;36m0\u001b[0m\u001b[1;33m]\u001b[0m\u001b[1;33m.\u001b[0m\u001b[0mget_text\u001b[0m\u001b[1;33m(\u001b[0m\u001b[1;33m)\u001b[0m\u001b[1;33m\u001b[0m\u001b[1;33m\u001b[0m\u001b[0m\n\u001b[0m\u001b[0;32m     31\u001b[0m     \u001b[0mcode_blocks\u001b[0m\u001b[1;33m.\u001b[0m\u001b[0mappend\u001b[0m\u001b[1;33m(\u001b[0m\u001b[0mdescriptionJob\u001b[0m\u001b[1;33m)\u001b[0m\u001b[1;33m\u001b[0m\u001b[1;33m\u001b[0m\u001b[0m\n\u001b[0;32m     32\u001b[0m     \u001b[0mdriver\u001b[0m\u001b[1;33m.\u001b[0m\u001b[0mexecute_script\u001b[0m\u001b[1;33m(\u001b[0m\u001b[1;34m\"window.history.go(-1)\"\u001b[0m\u001b[1;33m)\u001b[0m\u001b[1;33m\u001b[0m\u001b[1;33m\u001b[0m\u001b[0m\n",
      "\u001b[1;31mIndexError\u001b[0m: list index out of range"
     ]
    }
   ],
   "source": [
    "options =webdriver.ChromeOptions()\n",
    "options.headless=False\n",
    "prefs={\"profile.default_content_setting_values.notifications\" :2}\n",
    "options.add_experimental_option(\"prefs\",prefs)\n",
    "driver = webdriver.Chrome('C:/chromedriver/chromedriver.exe')\n",
    "\n",
    "driver.get(\"https://www.indeed.fr/?from=gnav-jobsearch--jasx\")\n",
    "driver.find_element_by_xpath('//*[@id=\"text-input-what\"]').send_keys(\"data science\",Keys.ENTER)\n",
    "time.sleep(10)\n",
    "\n",
    "num_links = len(driver.find_elements_by_link_text('plus...'))\n",
    "num_links\n",
    "\n",
    "# To navigate to one of the i pages the i button must be clicked.\n",
    "\n",
    "button = driver.find_elements_by_class_name(\"title\") #normalement nhotou l classe mta link : plus... ama mahabetech manarech aleh walit hatit mta title \n",
    "\n",
    "\n",
    "#Get html code with driver.page_source   \n",
    "code_blocks = []\n",
    "for i in range(num_links):\n",
    "    # navigate to link\n",
    "    button = driver.find_elements_by_class_name(\"title\")[i]\n",
    "    button.click()\n",
    "    # get soup\n",
    "    soup = BeautifulSoup(driver.page_source, 'html.parser')\n",
    "    descriptionJob =soup.find_all('div', id_='vjs-desc')[0].get_text()\n",
    "    code_blocks.append(descriptionJob)\n",
    "    driver.execute_script(\"window.history.go(-1)\")\n",
    "print(code_blocks)"
   ]
  },
  {
   "cell_type": "code",
   "execution_count": 530,
   "metadata": {},
   "outputs": [
    {
     "output_type": "error",
     "ename": "SyntaxError",
     "evalue": "invalid syntax (<ipython-input-530-f898ea213fb5>, line 1)",
     "traceback": [
      "\u001b[1;36m  File \u001b[1;32m\"<ipython-input-530-f898ea213fb5>\"\u001b[1;36m, line \u001b[1;32m1\u001b[0m\n\u001b[1;33m    wait.until( new Predicate<WebDriver>() {\u001b[0m\n\u001b[1;37m                            ^\u001b[0m\n\u001b[1;31mSyntaxError\u001b[0m\u001b[1;31m:\u001b[0m invalid syntax\n"
     ]
    }
   ],
   "source": [
    "options =webdriver.ChromeOptions()\n",
    "options.headless=False\n",
    "prefs={\"profile.default_content_setting_values.notifications\" :2}\n",
    "options.add_experimental_option(\"prefs\",prefs)\n",
    "driver = webdriver.Chrome('C:/chromedriver/chromedriver.exe')\n",
    "\n",
    "driver.get(\"https://www.indeed.fr/?from=gnav-jobsearch--jasx\")\n",
    "driver.find_element_by_xpath('//*[@id=\"text-input-what\"]').send_keys(\"data science\",Keys.ENTER)\n",
    "\n",
    "html = driver.page_source\n",
    "\n",
    "time.sleep(10)\n",
    "\n",
    "num_links = len(driver.find_elements_by_link_text('plus...'))\n",
    "num_links\n",
    "\n",
    "# To navigate to one of the i pages the i button must be clicked.\n",
    "\n",
    "button = driver.find_elements_by_class_name(\"title\") #normalement nhotou l classe mta link : plus... ama mahabetech manarech aleh walit hatit mta title \n",
    "\n",
    "\n",
    "#Get html code with driver.page_source   \n",
    "code_blocks = []\n",
    "for i in range(num_links):\n",
    "    # navigate to link\n",
    "    button = driver.find_elements_by_class_name(\"title\")[i]\n",
    "    button.click()\n",
    "\n",
    "    # get soup\n",
    "    wait = WebDriverWait(driver, 10)\n",
    "    element = wait.until(EC.element_to_be_clickable((By.XPATH, '//*[@id=\"jobDescriptionText\"]')))\n",
    "    tutorial_soup = BeautifulSoup(driver.page_source, 'html.parser')\n",
    "    tutorial_code_soup = tutorial_soup.find_all('div', attrs={'class': 'jobsearch-jobDescriptionText'})\n",
    "    tutorial_code = [i.getText() for i in tutorial_code_soup]\n",
    "    code_blocks.append(tutorial_code)\n",
    "    driver.execute_script(\"window.history.go(-1)\")\n",
    "\n",
    "print(code_blocks)"
   ]
  },
  {
   "cell_type": "markdown",
   "metadata": {},
   "source": [
    "# 2eme methode : only with bfs4"
   ]
  },
  {
   "cell_type": "code",
   "execution_count": 95,
   "metadata": {},
   "outputs": [],
   "source": [
    "df_temp=pd.read_csv('ideed.csv')\n",
    "\n",
    "urlpage = 'https://www.indeed.fr/viewjob?jk=4d2078bc4cf4e953&tk=1e9b9a5qc156d000&from=serp&vjs=3'\n",
    "page = urllib.request.urlopen(urlpage)\n",
    "soup = BeautifulSoup(page, 'html.parser')"
   ]
  },
  {
   "cell_type": "code",
   "execution_count": 96,
   "metadata": {},
   "outputs": [
    {
     "output_type": "execute_result",
     "data": {
      "text/plain": "                                         description  \\\n0  À propos  LiveMentor est la référence du coach...   \n1  Au sein du pôle Marketing Analytics de la Dire...   \n\n                 entreprise           lieu                             titre  \n0                LIVEMENTOR     Paris (75)        40 000 € - 50 000 € par an  \n1  AXA Global Direct France  Suresnes (92)  Temps plein, Intérim, CDD, Stage  ",
      "text/html": "<div>\n<style scoped>\n    .dataframe tbody tr th:only-of-type {\n        vertical-align: middle;\n    }\n\n    .dataframe tbody tr th {\n        vertical-align: top;\n    }\n\n    .dataframe thead th {\n        text-align: right;\n    }\n</style>\n<table border=\"1\" class=\"dataframe\">\n  <thead>\n    <tr style=\"text-align: right;\">\n      <th></th>\n      <th>description</th>\n      <th>entreprise</th>\n      <th>lieu</th>\n      <th>titre</th>\n    </tr>\n  </thead>\n  <tbody>\n    <tr>\n      <th>0</th>\n      <td>À propos  LiveMentor est la référence du coach...</td>\n      <td>LIVEMENTOR</td>\n      <td>Paris (75)</td>\n      <td>40 000 € - 50 000 € par an</td>\n    </tr>\n    <tr>\n      <th>1</th>\n      <td>Au sein du pôle Marketing Analytics de la Dire...</td>\n      <td>AXA Global Direct France</td>\n      <td>Suresnes (92)</td>\n      <td>Temps plein, Intérim, CDD, Stage</td>\n    </tr>\n  </tbody>\n</table>\n</div>"
     },
     "metadata": {},
     "execution_count": 96
    }
   ],
   "source": [
    "df_temp"
   ]
  },
  {
   "cell_type": "code",
   "execution_count": 97,
   "metadata": {},
   "outputs": [],
   "source": [
    "\n",
    "entreprise = soup.find_all('div', class_='icl-u-lg-mr--sm icl-u-xs-mr--xs')[0].get_text()\n",
    "lieu = soup.find_all('span', class_='jobsearch-JobMetadataHeader-iconLabel')[0].get_text()\n",
    "lieu = lieu.replace(u'\\t', u'')\n",
    "\n",
    "\n",
    "title=soup.find_all('span', class_='jobsearch-JobMetadataHeader-iconLabel')[1].get_text()\n",
    "#candidats =soup.find_all('div', class_='applicants-num')[0].get_text()\n",
    "#postes=soup.find_all('span', class_='vacancies-num')[0].get_text()\n",
    "\n",
    "description =soup.find_all('div', class_='jobsearch-jobDescriptionText')[0].get_text()\n",
    "description = description.replace(u'\\xa0', u' ')\n",
    "description = description.replace(u'\\n', u' ')\n",
    "\n",
    "#exigences = soup.find_all('div', class_='details-body__content content-text')[1].get_text()\n",
    "#exigences = exigences.replace(u'\\xa0', u' ')\n",
    "#exigences = exigences.replace(u'\\n', u' ')\n",
    "\n",
    "#dateExpiration = soup.find_all('div', class_='details-body__content content-text')[2].get_text()"
   ]
  },
  {
   "cell_type": "code",
   "execution_count": 98,
   "metadata": {},
   "outputs": [],
   "source": [
    "df = pd.DataFrame({\n",
    " 'entreprise':[entreprise],\n",
    "'lieu':[lieu],\n",
    "'titre':[title],\n",
    "'description':[description]\n",
    "})"
   ]
  },
  {
   "cell_type": "code",
   "execution_count": 99,
   "metadata": {},
   "outputs": [
    {
     "output_type": "execute_result",
     "data": {
      "text/plain": "  entreprise            lieu                       titre  \\\n0      Orano  Châtillon (92)  Apprentissage, Contrat pro   \n\n                                         description  \n0  Intitulé du poste  Alternant Data Scientist I4...  ",
      "text/html": "<div>\n<style scoped>\n    .dataframe tbody tr th:only-of-type {\n        vertical-align: middle;\n    }\n\n    .dataframe tbody tr th {\n        vertical-align: top;\n    }\n\n    .dataframe thead th {\n        text-align: right;\n    }\n</style>\n<table border=\"1\" class=\"dataframe\">\n  <thead>\n    <tr style=\"text-align: right;\">\n      <th></th>\n      <th>entreprise</th>\n      <th>lieu</th>\n      <th>titre</th>\n      <th>description</th>\n    </tr>\n  </thead>\n  <tbody>\n    <tr>\n      <th>0</th>\n      <td>Orano</td>\n      <td>Châtillon (92)</td>\n      <td>Apprentissage, Contrat pro</td>\n      <td>Intitulé du poste  Alternant Data Scientist I4...</td>\n    </tr>\n  </tbody>\n</table>\n</div>"
     },
     "metadata": {},
     "execution_count": 99
    }
   ],
   "source": [
    "df"
   ]
  },
  {
   "cell_type": "code",
   "execution_count": 103,
   "metadata": {},
   "outputs": [],
   "source": [
    "df = pd.concat([df, df_temp])\n",
    "#Delet index\n",
    "df.reset_index(drop=True, inplace=True)"
   ]
  },
  {
   "cell_type": "code",
   "execution_count": 104,
   "metadata": {},
   "outputs": [
    {
     "output_type": "execute_result",
     "data": {
      "text/plain": "                                         description  \\\n0  Intitulé du poste  Alternant Data Scientist I4...   \n1  À propos  LiveMentor est la référence du coach...   \n2  Au sein du pôle Marketing Analytics de la Dire...   \n3  À propos  LiveMentor est la référence du coach...   \n4  Au sein du pôle Marketing Analytics de la Dire...   \n\n                 entreprise            lieu                             titre  \n0                     Orano  Châtillon (92)        Apprentissage, Contrat pro  \n1                LIVEMENTOR      Paris (75)        40 000 € - 50 000 € par an  \n2  AXA Global Direct France   Suresnes (92)  Temps plein, Intérim, CDD, Stage  \n3                LIVEMENTOR      Paris (75)        40 000 € - 50 000 € par an  \n4  AXA Global Direct France   Suresnes (92)  Temps plein, Intérim, CDD, Stage  ",
      "text/html": "<div>\n<style scoped>\n    .dataframe tbody tr th:only-of-type {\n        vertical-align: middle;\n    }\n\n    .dataframe tbody tr th {\n        vertical-align: top;\n    }\n\n    .dataframe thead th {\n        text-align: right;\n    }\n</style>\n<table border=\"1\" class=\"dataframe\">\n  <thead>\n    <tr style=\"text-align: right;\">\n      <th></th>\n      <th>description</th>\n      <th>entreprise</th>\n      <th>lieu</th>\n      <th>titre</th>\n    </tr>\n  </thead>\n  <tbody>\n    <tr>\n      <th>0</th>\n      <td>Intitulé du poste  Alternant Data Scientist I4...</td>\n      <td>Orano</td>\n      <td>Châtillon (92)</td>\n      <td>Apprentissage, Contrat pro</td>\n    </tr>\n    <tr>\n      <th>1</th>\n      <td>À propos  LiveMentor est la référence du coach...</td>\n      <td>LIVEMENTOR</td>\n      <td>Paris (75)</td>\n      <td>40 000 € - 50 000 € par an</td>\n    </tr>\n    <tr>\n      <th>2</th>\n      <td>Au sein du pôle Marketing Analytics de la Dire...</td>\n      <td>AXA Global Direct France</td>\n      <td>Suresnes (92)</td>\n      <td>Temps plein, Intérim, CDD, Stage</td>\n    </tr>\n    <tr>\n      <th>3</th>\n      <td>À propos  LiveMentor est la référence du coach...</td>\n      <td>LIVEMENTOR</td>\n      <td>Paris (75)</td>\n      <td>40 000 € - 50 000 € par an</td>\n    </tr>\n    <tr>\n      <th>4</th>\n      <td>Au sein du pôle Marketing Analytics de la Dire...</td>\n      <td>AXA Global Direct France</td>\n      <td>Suresnes (92)</td>\n      <td>Temps plein, Intérim, CDD, Stage</td>\n    </tr>\n  </tbody>\n</table>\n</div>"
     },
     "metadata": {},
     "execution_count": 104
    }
   ],
   "source": [
    "df"
   ]
  },
  {
   "cell_type": "code",
   "execution_count": 105,
   "metadata": {},
   "outputs": [],
   "source": [
    "df.to_csv('ideed.csv',index=False)"
   ]
  },
  {
   "cell_type": "code",
   "execution_count": null,
   "metadata": {},
   "outputs": [],
   "source": []
  }
 ],
 "metadata": {
  "language_info": {
   "codemirror_mode": {
    "name": "ipython",
    "version": 3
   },
   "file_extension": ".py",
   "mimetype": "text/x-python",
   "name": "python",
   "nbconvert_exporter": "python",
   "pygments_lexer": "ipython3",
   "version": "3.7.1-final"
  },
  "orig_nbformat": 2,
  "kernelspec": {
   "name": "python3",
   "display_name": "Python 3"
  }
 },
 "nbformat": 4,
 "nbformat_minor": 2
}